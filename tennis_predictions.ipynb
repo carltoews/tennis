{
 "cells": [
  {
   "cell_type": "markdown",
   "metadata": {},
   "source": [
    "## <p style=\"text-align: center\"> Predicting Professional Tennis Match Outcomes</p>\n",
    "\n",
    "**Author:**  Carl Toews  \n",
    "**Date: ** August 8, 2017  \n",
    "\n",
    "**Project Description:**  This project explores various machine learning techniques on professional tennis data.  The data set was compiled by Jeff Sackman (https://github.com/JeffSackmann/tennis_atp) and consists of the Association of Tennis Professionals (ATP) match outcomes for all major ATP matches since 1968.  In all there are over half a million records.  Features change slightly over the years, but by 2017 include almost 50 elements, including rank, age, seed, and match statistics for both the winner and loser. \n",
    "\n",
    "\n",
    "**Outline:**    \n",
    "I. <a href=\"#mysql\"> MySQL database creation </a>   \n",
    "II.  <a href=\"#logisticregression\"> Logistic Regression demo:  height and rank difference </a>  \n",
    "III.  <a href=\"#svm\"> SVM demo:  age and height difference    </a>  \n",
    "IV.  <a href=\"#todos\"> TODOs </a> \n",
    "\n"
   ]
  },
  {
   "cell_type": "markdown",
   "metadata": {},
   "source": [
    "### I:  <a name=\"mysql\"> MySQL database creation </a>  \n",
    "\n",
    "The data on Sackman's page is in CSV format.  While it's easy enough to read such data directly into a pandas data structure, one of my goals in this project is to get some practice with the Pandas-MySQL interface.  This section thus creates a MySQL database called \"Tennis\".  Within \"Tennis\" are three tables, `matches`, `players`, and `rankings`, corresponding to three different kinds of CSV files (details below.)  The code populates the tables with the appropriate CSV data.  "
   ]
  },
  {
   "cell_type": "code",
   "execution_count": 99,
   "metadata": {},
   "outputs": [
    {
     "name": "stdout",
     "output_type": "stream",
     "text": [
      "Database version : \n",
      "('5.7.16',)\n",
      "Table MATCHES already exists, skipping table creation.\n",
      "Table PLAYERS already exists, skipping table creation.\n",
      "Table RANKINGS already exists, skipping table creation.\n",
      "Table odds already exists, skipping table creation.\n"
     ]
    }
   ],
   "source": [
    "import sys\n",
    "# change path name as necessary\n",
    "sys.path.insert(0, '/Users/ctoews/Projects/Data_Science/Tennis/tennis/mysql')\n",
    "\n",
    "import setup_mysql_database"
   ]
  },
  {
   "cell_type": "markdown",
   "metadata": {},
   "source": [
    "### II.  <a name=\"logisticregression\"> Logistic regression demo:   height and rank difference </a>  \n",
    "\n",
    "The purpose of this code is to implement a very simple logistic regression on two features that can be extended easily to diffent features.  In this simple example, focus on finding a regularized logistic regression classifier based on differences in rank point and height.  \n",
    "\n",
    "The first step is to extract the relevant data from the MySQL database and save it in a Pandas dataframe."
   ]
  },
  {
   "cell_type": "code",
   "execution_count": 1,
   "metadata": {},
   "outputs": [
    {
     "name": "stderr",
     "output_type": "stream",
     "text": [
      "/Users/ctoews/anaconda/lib/python2.7/site-packages/matplotlib/font_manager.py:273: UserWarning: Matplotlib is building the font cache using fc-list. This may take a moment.\n",
      "  warnings.warn('Matplotlib is building the font cache using fc-list. This may take a moment.')\n"
     ]
    }
   ],
   "source": [
    "import numpy as np # numerical libraries\n",
    "import scipy as sp\n",
    "import pandas as pd # for data analysis\n",
    "import pandas.io.sql as sql # for interfacing with MySQL database\n",
    "from scipy import linalg # linear algebra libraries\n",
    "from scipy import optimize\n",
    "from __future__ import division, print_function # good defensive measure\n",
    "import matplotlib as mpl # a big library with plotting functionality\n",
    "import matplotlib.pyplot as plt # a subset of matplotlib with most of the useful tools\n",
    "%matplotlib inline \n"
   ]
  },
  {
   "cell_type": "code",
   "execution_count": null,
   "metadata": {
    "collapsed": true
   },
   "outputs": [],
   "source": [
    "#\n",
    "# CONFIGURABLE PARAMETERS\n",
    "#\n",
    "\n",
    "# name of database\n",
    "db_name = \"tennis\"\n",
    "# name of db user\n",
    "username = \"testuser\"\n",
    "# db password for db user\n",
    "password = \"test623\"\n",
    "# location of atp data files\n",
    "atpfile_directory = \"../data/tennis_atp-master/\"\n",
    "# location of odds data files\n",
    "oddsfiles_directory = \"../data/odds_data/\"\n",
    "\n",
    "#%%\n",
    "\n",
    "#\n",
    "# PACKAGES\n",
    "#\n",
    "\n",
    "import sqlalchemy # pandas-mysql interface library\n",
    "import sqlalchemy.exc # exception handling\n",
    "from   sqlalchemy import create_engine  # needed to define db interface\n",
    "import glob # for file manipulation\n",
    "import sys # for defining behavior under errors\n",
    "\n",
    "#%%\n",
    "\n",
    "#\n",
    "# This cell tries to connect to the mysql database \"db_name\" with the login\n",
    "# info supplied above.  If it succeeds, it prints out the version number of \n",
    "# mysql, if it fails, it exits gracefully.\n",
    "#\n",
    "\n",
    "# create an engine for interacting with the MySQL database\n",
    "try:\n",
    "    eng_str = 'mysql+mysqldb://' + username + ':' + password + '@localhost/' + db_name\n",
    "    engine = create_engine(eng_str)\n",
    "    connection = engine.connect()\n",
    "    version = connection.execute(\"SELECT VERSION()\")\n",
    "    print(\"Database version : \")\n",
    "    print(version.fetchone())\n",
    "\n",
    "# report what went wrong if this fails.    \n",
    "except sqlalchemy.exc.DatabaseError as e:\n",
    "    reason = e.message\n",
    "    print(\"Error %s:\" % (reason))\n",
    "    sys.exit(1)\n",
    "\n",
    "# close the connection\n",
    "finally:            \n",
    "    if connection:    \n",
    "        connection.close()\n",
    "    else:\n",
    "        print(\"Failed to create connection.\")"
   ]
  },
  {
   "cell_type": "code",
   "execution_count": 10,
   "metadata": {
    "collapsed": true
   },
   "outputs": [],
   "source": [
    "# extract from MySQL database info on rank points and height for both winner and loser, store in dataframe\n",
    "with engine.begin() as connection:\n",
    "    rawdata = pd.read_sql_query(\"\"\"SELECT winner_rank_points, loser_rank_points, winner_ht, loser_ht FROM matches \\\n",
    "                            WHERE tourney_date > '20160101' \\\n",
    "                            AND winner_rank_points IS NOT NULL \\\n",
    "                            AND loser_rank_points IS NOT NULL \\\n",
    "                            AND winner_ht IS NOT NULL \\\n",
    "                            AND loser_ht IS NOT NULL\"\"\", connection)   "
   ]
  },
  {
   "cell_type": "markdown",
   "metadata": {},
   "source": [
    "We'll be using the scipy function `optimize.minimize` to calculate the classifier.  To make this code as easily generalizable as possible, we derive some quantities of interest from the dataframe and store these in a numpy array.  The array will be the object that we'll manipulate in most of the following calculations."
   ]
  },
  {
   "cell_type": "code",
   "execution_count": 39,
   "metadata": {
    "collapsed": true
   },
   "outputs": [],
   "source": [
    "# this nx2 array contains the differences in rankings points and the differences in height\n",
    "X = pd.concat([rawdata.iloc[:,1]-rawdata.iloc[:,0],rawdata.iloc[:,3]-rawdata.iloc[:,2]],axis=1).values\n",
    "\n",
    "# this nx1 binary array indicates whether the match was a \"success\" or a \"failure\", as predicted by ranking differences\n",
    "y = (X[:,0] > 0)"
   ]
  },
  {
   "cell_type": "code",
   "execution_count": 40,
   "metadata": {
    "collapsed": true
   },
   "outputs": [],
   "source": [
    "# for numerical well-behavedness, we need to scale and center the data\n",
    "X=(X-np.mean(X,axis=0))/np.std(X,axis=0)"
   ]
  },
  {
   "cell_type": "code",
   "execution_count": 41,
   "metadata": {},
   "outputs": [
    {
     "data": {
      "text/plain": [
       "<matplotlib.text.Text at 0x11c44f390>"
      ]
     },
     "execution_count": 41,
     "metadata": {},
     "output_type": "execute_result"
    },
    {
     "data": {
      "image/png": "[encoded data removed]",
      "text/plain": [
       "<matplotlib.figure.Figure at 0x11aed2910>"
      ]
     },
     "metadata": {},
     "output_type": "display_data"
    }
   ],
   "source": [
    "# plot the normalized data\n",
    "fig, ax = plt.subplots(1,1)\n",
    "ax.plot(X[y,0],X[y,1],\"ro\")\n",
    "ax.plot(X[~y,0],X[~y,1],\"bo\")\n",
    "ax.set_xlabel('Rank difference')\n",
    "ax.set_ylabel('Height')\n",
    "ax.set_title('Higher-rank-wins as a function of rank difference and height')"
   ]
  },
  {
   "cell_type": "markdown",
   "metadata": {},
   "source": [
    "In preparation for calculating the regression classifier, we'll prepend a column of 1s to the matrix X and change y into a vector of 1s and 0s (instead of Trues and Falses.)"
   ]
  },
  {
   "cell_type": "code",
   "execution_count": 42,
   "metadata": {
    "collapsed": true
   },
   "outputs": [],
   "source": [
    "# change y from True/False binary into 1/0 binary\n",
    "yv=y*1\n",
    "\n",
    "# prepend column of 1s to X\n",
    "Xv=np.insert(X,0,1,axis=1)"
   ]
  },
  {
   "cell_type": "markdown",
   "metadata": {},
   "source": [
    "To perform the regression, we'll need to define the sigmoid function and a cost function.  The former can take a scalar, vector, or matrix, and return the elementwise value of\n",
    "\n",
    "$$\n",
    "\\frac{1}{1+e^{-z}}\n",
    "$$"
   ]
  },
  {
   "cell_type": "code",
   "execution_count": 43,
   "metadata": {
    "collapsed": true
   },
   "outputs": [],
   "source": [
    "def sigmoid(z):\n",
    "    '''\n",
    "    Usage:  sigmoid(z)\n",
    "    \n",
    "    Description:  Computes value of sigmoid function for scalar.  \n",
    "    For vector or matrix, computes values of sigmoid function for each entry.\n",
    "    '''\n",
    "\n",
    "    return 1/(1+np.exp(-z));"
   ]
  },
  {
   "cell_type": "markdown",
   "metadata": {},
   "source": [
    "The cost function is designed to take a regularization parameter lambda.  For a non-regularized solution, lambda can be set equal to 0.  The cost function returns both a cost and the gradient for any given value of parameters $\\theta$."
   ]
  },
  {
   "cell_type": "code",
   "execution_count": 44,
   "metadata": {
    "collapsed": true
   },
   "outputs": [],
   "source": [
    "# define a cost function\n",
    "def costFunction(theta,X,y,lam):\n",
    "    '''\n",
    "    Computes the cost and gradient for logistic regression.\n",
    "    \n",
    "    Input: \n",
    "           theta (3x1 vector of parameters)\n",
    "           X (nx3 matrix of feature values, first column all 1s)\n",
    "           y (nx1 binary vector of outcomes, 1=higher ranked player won, 0 otherwise)\n",
    "           lam (scalar:  regularization paramter)\n",
    "           \n",
    "    Output:  \n",
    "           cost (scalar value of cost)\n",
    "    '''\n",
    "\n",
    "    # number of data points\n",
    "    m = len(y) \n",
    "    # make sure vectors are column vectors\n",
    "    theta = theta.reshape(-1,1)\n",
    "    y = y.reshape(-1,1)\n",
    "    \n",
    "    # input to sigmoid function will be a column vector\n",
    "    z = np.dot(X,theta)\n",
    "    \n",
    "    # cost function\n",
    "    J = (1/m)*np.sum(np.dot(-y.transpose(),np.log(sigmoid(z))) - \\\n",
    "                     np.dot((1-y.transpose()),np.log(1-sigmoid(z)))) + \\\n",
    "                    (lam/(2*m))*np.sum(theta[1:len(theta)+1]**2);\n",
    "  \n",
    "    # gradient\n",
    "    regterm = np.insert(theta[1:len(theta)+1],0,0)\n",
    "    grad = (1/m)*np.sum((sigmoid(z) - y)*X,0) + (lam/m)*regterm\n",
    "    \n",
    "    \n",
    "    return J, grad"
   ]
  },
  {
   "cell_type": "markdown",
   "metadata": {},
   "source": [
    "Small test:  make sure the cost function works."
   ]
  },
  {
   "cell_type": "code",
   "execution_count": 45,
   "metadata": {},
   "outputs": [
    {
     "name": "stdout",
     "output_type": "stream",
     "text": [
      "cost: 1.29946958378\n",
      "grad: [ 0.26942472 -0.03571902  0.26823577]\n"
     ]
    }
   ],
   "source": [
    "# check that cost function works\n",
    "theta = np.array([1,2,3])\n",
    "lam = 10\n",
    "cost, grad = costFunction(theta, Xv, yv,lam)\n",
    "print(\"cost:\", cost)\n",
    "print(\"grad:\", grad)"
   ]
  },
  {
   "cell_type": "markdown",
   "metadata": {},
   "source": [
    "For diagnostic purposes, we define a `callback` function that will print information about the state and gradient as the optimization algorithm proceeds.  "
   ]
  },
  {
   "cell_type": "code",
   "execution_count": 46,
   "metadata": {
    "collapsed": true
   },
   "outputs": [],
   "source": [
    "def callbackF(theta):\n",
    "    global NFeval\n",
    "    global Xv\n",
    "    global yv\n",
    "    global lam\n",
    "    cost,grad = costFunction(theta,Xv,yv,lam)\n",
    "    print(\"%4d   %3.6f   %3.6f   %3.6f   %3.6f   %3.6f  %3.6f  %3.6f\" % \\\n",
    "          (NFeval, theta[0], theta[1], theta[2], cost, grad[0], grad[1], grad[2]))  \n",
    "    NFeval+=1"
   ]
  },
  {
   "cell_type": "markdown",
   "metadata": {},
   "source": [
    "Finally, we run the optimization."
   ]
  },
  {
   "cell_type": "code",
   "execution_count": 47,
   "metadata": {},
   "outputs": [
    {
     "name": "stdout",
     "output_type": "stream",
     "text": [
      "iter      t1          t2         t3     cost      grad1       grad2       grad3\n",
      "   1   -0.740816   1.011169   0.161153   0.519604   0.001231  -0.080409  0.003482\n",
      "   2   -0.766671   2.699759   0.088021   0.444510   0.074391  -0.015776  -0.010322\n",
      "   3   -1.533401   3.437692   0.168184   0.411394   -0.031067  -0.032453  0.002383\n",
      "   4   -1.913539   5.112970   0.226093   0.385213   -0.014478  -0.010628  0.012251\n",
      "   5   -1.841148   5.166111   0.164837   0.383704   -0.001019  -0.006336  0.003867\n",
      "   6   -1.825615   5.262697   0.105890   0.383276   0.005550  -0.003698  -0.004615\n",
      "   7   -2.043369   5.819243   0.109833   0.381571   -0.003820  -0.001779  -0.003691\n",
      "   8   -2.033859   5.852652   0.128463   0.381466   -0.000803  -0.000636  -0.000935\n",
      "   9   -2.029844   5.855832   0.133140   0.381460   -0.000024  -0.000385  -0.000249\n",
      "  10   -2.029460   5.862014   0.137136   0.381458   0.000325  -0.000234  0.000331\n",
      "  11   -2.044176   5.898339   0.136527   0.381451   -0.000347  -0.000141  0.000250\n",
      "  12   -2.043533   5.901737   0.135229   0.381451   -0.000105  -0.000046  0.000077\n",
      "  13   -2.043009   5.901968   0.134842   0.381451   -0.000016  -0.000019  0.000026\n",
      "  14   -2.042929   5.902065   0.134714   0.381451   -0.000000  -0.000014  0.000008\n",
      "  15   -2.042928   5.902358   0.134546   0.381450   0.000012  -0.000009  -0.000015\n",
      "  16   -2.043481   5.903824   0.134613   0.381450   -0.000008  -0.000003  -0.000005\n",
      "Optimization terminated successfully.\n",
      "         Current function value: 0.381450\n",
      "         Iterations: 16\n",
      "         Function evaluations: 45\n",
      "         Gradient evaluations: 45\n"
     ]
    }
   ],
   "source": [
    "# run optimization\n",
    "NFeval = 1\n",
    "initial_theta = np.array([0.,0.,0.])\n",
    "print(\"iter      t1          t2         t3     cost      grad1       grad2       grad3\")\n",
    "res = sp.optimize.minimize(lambda t:  costFunction(t,Xv,yv,lam), initial_theta, method='CG',\\\n",
    "                           jac=True,options={'maxiter':100,'disp':True}, callback=callbackF)                             "
   ]
  },
  {
   "cell_type": "markdown",
   "metadata": {},
   "source": [
    "To see how it did, we replot the data with the logistic classifier superimposed over the top."
   ]
  },
  {
   "cell_type": "code",
   "execution_count": 51,
   "metadata": {},
   "outputs": [
    {
     "data": {
      "text/plain": [
       "(-5, 5)"
      ]
     },
     "execution_count": 51,
     "metadata": {},
     "output_type": "execute_result"
    },
    {
     "data": {
      "image/png": "[encoded data removed]",
      "text/plain": [
       "<matplotlib.figure.Figure at 0x11d0cc210>"
      ]
     },
     "metadata": {},
     "output_type": "display_data"
    }
   ],
   "source": [
    "# plot the normalized data with regression line\n",
    "theta = res.x\n",
    "fig, ax = plt.subplots(1,1)\n",
    "ax.plot(X[y,0],X[y,1],\"ro\")\n",
    "ax.plot(X[~y,0],X[~y,1],\"bo\")\n",
    "xplot = np.array([-1,1])\n",
    "yplot = (-1/theta[2])*(theta[1]*xplot+theta[0])\n",
    "ax.plot(xplot,yplot,'g',linewidth=2)\n",
    "ax.set_xlabel('Rank difference')\n",
    "ax.set_ylabel('Height')\n",
    "ax.set_title('Higher-rank-wins as a function of age and height')\n",
    "ax.set_ylim((-5,5))"
   ]
  },
  {
   "cell_type": "markdown",
   "metadata": {},
   "source": [
    "**Comments:**\n",
    "\n",
    "The above procedure turns tennis match outcomes into training data by assigning 1s to matches in which the higher ranked opponent won.  \n",
    "\n",
    "TODO: \n",
    "\n",
    "1.  investigate other methods of classifying matches as 1s or 0s\n",
    "2.  investigate other combinations of features to use for the regression\n",
    "3.  test feature choices by dividing data set into training, validation, and test sets\n"
   ]
  },
  {
   "cell_type": "markdown",
   "metadata": {},
   "source": [
    "## III.  <a name=\"svm\"> SVM Demo </a>"
   ]
  },
  {
   "cell_type": "markdown",
   "metadata": {},
   "source": [
    "This section uses some basic `scikit` functionality to train an SVM classifier on rank and ace data. The example is again a trivial one, but defines a workflow and sets the stage for investigating more complex relations."
   ]
  },
  {
   "cell_type": "code",
   "execution_count": 52,
   "metadata": {
    "collapsed": true
   },
   "outputs": [],
   "source": [
    "# we'll use the SVM package in the scikit library\n",
    "from sklearn import svm"
   ]
  },
  {
   "cell_type": "markdown",
   "metadata": {},
   "source": [
    "After classifying the SVM classifier, we'll need some helper functions to form contour plots. These helper functions are borrowed from the `scikit` documentation, http://scikit-learn.org/stable/auto_examples/svm/plot_iris.html#sphx-glr-auto-examples-svm-plot-iris-py."
   ]
  },
  {
   "cell_type": "code",
   "execution_count": 53,
   "metadata": {
    "collapsed": true
   },
   "outputs": [],
   "source": [
    "# produce a dense grid of points in rectangle around the data\n",
    "def make_meshgrid(x, y, h=.02):\n",
    "    \"\"\"Create a mesh of points to plot in\n",
    "\n",
    "    Parameters\n",
    "    ----------\n",
    "    x: data to base x-axis meshgrid on\n",
    "    y: data to base y-axis meshgrid on\n",
    "    h: stepsize for meshgrid, optional\n",
    "\n",
    "    Returns\n",
    "    -------\n",
    "    xx, yy : ndarray\n",
    "    \"\"\"\n",
    "    x_min, x_max = x.min() - 1, x.max() + 1\n",
    "    y_min, y_max = y.min() - 1, y.max() + 1\n",
    "    xx, yy = np.meshgrid(np.arange(x_min, x_max, h),\n",
    "                         np.arange(y_min, y_max, h))\n",
    "    return xx, yy\n",
    "\n",
    "# produce a contour plot with predicted outcomes from SVM classifier\n",
    "def plot_contours(ax, clf, xx, yy, **params):\n",
    "    \"\"\"Plot the decision boundaries for a classifier.\n",
    "\n",
    "    Parameters\n",
    "    ----------\n",
    "    ax: matplotlib axes object\n",
    "    clf: a classifier\n",
    "    xx: meshgrid ndarray\n",
    "    yy: meshgrid ndarray\n",
    "    params: dictionary of params to pass to contourf, optional\n",
    "    \"\"\"\n",
    "    Z = clf.predict(np.c_[xx.ravel(), yy.ravel()])\n",
    "    Z = Z.reshape(xx.shape)\n",
    "    out = ax.contourf(xx, yy, Z, **params)\n",
    "    return out"
   ]
  },
  {
   "cell_type": "markdown",
   "metadata": {},
   "source": [
    "We'll run our test on a slightly different set of data than last time.  Here, we'll still classify matches as `1` if the higher ranked player wins and `0` otherwise, but we'll focus on age and height as our predictive features.  "
   ]
  },
  {
   "cell_type": "code",
   "execution_count": 54,
   "metadata": {
    "collapsed": true
   },
   "outputs": [],
   "source": [
    "# extract from MySQL database info on rank points and height for both winner and loser, store in dataframe\n",
    "with engine.begin() as connection:\n",
    "    rawdata = pd.read_sql_query(\"\"\"SELECT winner_rank_points, loser_rank_points, winner_age, loser_age, winner_ht, loser_ht \\\n",
    "                            FROM matches \\\n",
    "                            WHERE tourney_date > '20170101' \\\n",
    "                            AND winner_rank_points IS NOT NULL \\\n",
    "                            AND loser_rank_points IS NOT NULL \\\n",
    "                            AND winner_age IS NOT NULL \\\n",
    "                            AND loser_age IS NOT NULL \\\n",
    "                            AND winner_ht IS NOT NULL \\\n",
    "                            AND loser_ht IS NOT NULL\"\"\", connection)   "
   ]
  },
  {
   "cell_type": "code",
   "execution_count": 55,
   "metadata": {
    "collapsed": true
   },
   "outputs": [],
   "source": [
    "# this nx2 array contains the differences in ages and the differences in height\n",
    "X = pd.concat([rawdata.iloc[:,2]-rawdata.iloc[:,3], \\\n",
    "               rawdata.iloc[:,4]-rawdata.iloc[:,5]], axis=1).values\n",
    "\n",
    "# this nx1 binary array indicates whether the match was a \"success\" or a \"failure\", as predicted by ranking differences\n",
    "y = (rawdata.iloc[:,0]-rawdata.iloc[:,1]).values > 0"
   ]
  },
  {
   "cell_type": "code",
   "execution_count": 56,
   "metadata": {
    "collapsed": true
   },
   "outputs": [],
   "source": [
    "# for numerical well-behavedness, we need to scale and center the data\n",
    "X=(X-np.mean(X,axis=0))/np.std(X,axis=0)"
   ]
  },
  {
   "cell_type": "code",
   "execution_count": 57,
   "metadata": {},
   "outputs": [
    {
     "data": {
      "text/plain": [
       "<matplotlib.text.Text at 0x11d543410>"
      ]
     },
     "execution_count": 57,
     "metadata": {},
     "output_type": "execute_result"
    },
    {
     "data": {
      "image/png": "[encoded data removed]",
      "text/plain": [
       "<matplotlib.figure.Figure at 0x11c4e0890>"
      ]
     },
     "metadata": {},
     "output_type": "display_data"
    }
   ],
   "source": [
    "# plot the normalized data \n",
    "fig, ax = plt.subplots(1,1)\n",
    "ax.plot(X[y,0],X[y,1],\"ro\")\n",
    "ax.plot(X[~y,0],X[~y,1],\"bo\")\n",
    "ax.set_xlabel('Age')\n",
    "ax.set_ylabel('Height')\n",
    "ax.set_title('Higher-rank-wins as a function of age and height')"
   ]
  },
  {
   "cell_type": "markdown",
   "metadata": {},
   "source": [
    "We'll  use the `scikit` svm package to train an SVM classifier on this data.  We'll plot the results as a contour graph."
   ]
  },
  {
   "cell_type": "code",
   "execution_count": 58,
   "metadata": {},
   "outputs": [
    {
     "data": {
      "text/plain": [
       "<matplotlib.text.Text at 0x11d4409d0>"
      ]
     },
     "execution_count": 58,
     "metadata": {},
     "output_type": "execute_result"
    },
    {
     "data": {
      "image/png": "[encoded data removed]",
      "text/plain": [
       "<matplotlib.figure.Figure at 0x11b5c52d0>"
      ]
     },
     "metadata": {},
     "output_type": "display_data"
    }
   ],
   "source": [
    "# find the SVM classifier\n",
    "clf = svm.SVC()\n",
    "clf.fit(X, y) \n",
    "\n",
    "# generate a dense grid for producing a contour plot\n",
    "X0, X1 = X[:, 0], X[:, 1]\n",
    "xx, yy = make_meshgrid(X0, X1)\n",
    "\n",
    "# feed the grid into the plot_contours routinge\n",
    "fig, ax = plt.subplots(1, 1)\n",
    "plot_contours(ax, clf, xx, yy,\n",
    "              cmap=plt.cm.coolwarm, alpha=0.8)\n",
    "ax.scatter(X0, X1, c=y, cmap=plt.cm.coolwarm, s=20, edgecolors='k')\n",
    "ax.set_xlim(xx.min(), xx.max())\n",
    "ax.set_ylim(yy.min(), yy.max())\n",
    "ax.set_xlabel('Rank points')\n",
    "ax.set_ylabel('First serve %')\n",
    "ax.set_xticks(())\n",
    "ax.set_yticks(())\n",
    "ax.set_title('SVM classifier for height/age data')"
   ]
  },
  {
   "cell_type": "markdown",
   "metadata": {},
   "source": [
    "Note that these features produce a fairly mixed set of points, so they are unlikely to be highly predictive.  But it is interesting to note the pocket of blue in the lower left corner:  it suggests that, all other being equal, players who are younger and shorter are likely to fair worse than predicted.  "
   ]
  },
  {
   "cell_type": "markdown",
   "metadata": {},
   "source": [
    "## IV.  Betting\n",
    "\n",
    "Here we explore the profitability of our algorithms."
   ]
  },
  {
   "cell_type": "code",
   "execution_count": 2,
   "metadata": {},
   "outputs": [
    {
     "name": "stdout",
     "output_type": "stream",
     "text": [
      "Database version : \n",
      "('5.7.16',)\n"
     ]
    }
   ],
   "source": [
    "# name of database\n",
    "db_name = \"tennis\"\n",
    "# name of db user\n",
    "username = \"testuser\"\n",
    "# db password for db user\n",
    "password = \"test623\"\n",
    "# location of atp data files\n",
    "atpfile_directory = \"../data/tennis_atp-master/\"\n",
    "# location of odds data files\n",
    "oddsfiles_directory = \"../data/odds_data/\"\n",
    "\n",
    "#%%\n",
    "\n",
    "#\n",
    "# PACKAGES\n",
    "#\n",
    "\n",
    "import sqlalchemy # pandas-mysql interface library\n",
    "import sqlalchemy.exc # exception handling\n",
    "from   sqlalchemy import create_engine  # needed to define db interface\n",
    "import glob # for file manipulation\n",
    "import sys # for defining behavior under errors\n",
    "\n",
    "#%%\n",
    "\n",
    "#\n",
    "# This cell tries to connect to the mysql database \"db_name\" with the login\n",
    "# info supplied above.  If it succeeds, it prints out the version number of \n",
    "# mysql, if it fails, it exits gracefully.\n",
    "#\n",
    "\n",
    "# create an engine for interacting with the MySQL database\n",
    "try:\n",
    "    eng_str = 'mysql+mysqldb://' + username + ':' + password + '@localhost/' + db_name\n",
    "    engine = create_engine(eng_str)\n",
    "    connection = engine.connect()\n",
    "    version = connection.execute(\"SELECT VERSION()\")\n",
    "    print(\"Database version : \")\n",
    "    print(version.fetchone())\n",
    "\n",
    "# report what went wrong if this fails.    \n",
    "except sqlalchemy.exc.DatabaseError as e:\n",
    "    reason = e.message\n",
    "    print(\"Error %s:\" % (reason))\n",
    "    sys.exit(1)\n",
    "\n",
    "# close the connection\n",
    "finally:            \n",
    "    if connection:    \n",
    "        connection.close()\n",
    "    else:\n",
    "        print(\"Failed to create connection.\")\n"
   ]
  },
  {
   "cell_type": "code",
   "execution_count": 6,
   "metadata": {
    "collapsed": true
   },
   "outputs": [],
   "source": [
    "# extract from MySQL database info odds\n",
    "with engine.begin() as connection:\n",
    "    rawdata = pd.read_sql_query(\"\"\"SELECT PSW, PSL, WRank, LRank FROM odds \\\n",
    "                            WHERE PSW IS NOT NULL \\\n",
    "                            AND PSL IS NOT NULL \\\n",
    "                            AND WRank IS NOT NULL \\\n",
    "                            AND LRank IS NOT NULL;\"\"\", connection)   "
   ]
  },
  {
   "cell_type": "code",
   "execution_count": 96,
   "metadata": {},
   "outputs": [
    {
     "name": "stdout",
     "output_type": "stream",
     "text": [
      "total invested:   20306\n",
      "return on investment:   -409.649\n"
     ]
    }
   ],
   "source": [
    "investment = len(rawdata)\n",
    "good_call_idx = (rawdata[\"LRank\"]-rawdata[\"WRank\"]>0)\n",
    "winner_odds = rawdata[\"PSW\"]\n",
    "gain = sum(winner_odds*good_call_idx) \n",
    "roi = gain - investment\n",
    "\n",
    "print(\"total invested:  \", investment)\n",
    "print(\"return on investment:  \", roi)"
   ]
  },
  {
   "cell_type": "code",
   "execution_count": 92,
   "metadata": {},
   "outputs": [
    {
     "data": {
      "text/plain": [
       "1.0"
      ]
     },
     "execution_count": 92,
     "metadata": {},
     "output_type": "execute_result"
    }
   ],
   "source": [
    "np.min(winner_odds)"
   ]
  },
  {
   "cell_type": "code",
   "execution_count": 97,
   "metadata": {},
   "outputs": [
    {
     "data": {
      "text/html": [
       "<div>\n",
       "<style>\n",
       "    .dataframe thead tr:only-child th {\n",
       "        text-align: right;\n",
       "    }\n",
       "\n",
       "    .dataframe thead th {\n",
       "        text-align: left;\n",
       "    }\n",
       "\n",
       "    .dataframe tbody tr th {\n",
       "        vertical-align: top;\n",
       "    }\n",
       "</style>\n",
       "<table border=\"1\" class=\"dataframe\">\n",
       "  <thead>\n",
       "    <tr style=\"text-align: right;\">\n",
       "      <th></th>\n",
       "      <th>PSW</th>\n",
       "      <th>PSL</th>\n",
       "      <th>WRank</th>\n",
       "      <th>LRank</th>\n",
       "    </tr>\n",
       "  </thead>\n",
       "  <tbody>\n",
       "    <tr>\n",
       "      <th>0</th>\n",
       "      <td>1.526</td>\n",
       "      <td>2.740</td>\n",
       "      <td>52</td>\n",
       "      <td>88</td>\n",
       "    </tr>\n",
       "    <tr>\n",
       "      <th>1</th>\n",
       "      <td>2.140</td>\n",
       "      <td>1.813</td>\n",
       "      <td>105</td>\n",
       "      <td>63</td>\n",
       "    </tr>\n",
       "    <tr>\n",
       "      <th>2</th>\n",
       "      <td>1.676</td>\n",
       "      <td>2.360</td>\n",
       "      <td>58</td>\n",
       "      <td>80</td>\n",
       "    </tr>\n",
       "    <tr>\n",
       "      <th>3</th>\n",
       "      <td>2.580</td>\n",
       "      <td>1.581</td>\n",
       "      <td>81</td>\n",
       "      <td>32</td>\n",
       "    </tr>\n",
       "    <tr>\n",
       "      <th>4</th>\n",
       "      <td>2.170</td>\n",
       "      <td>1.787</td>\n",
       "      <td>119</td>\n",
       "      <td>67</td>\n",
       "    </tr>\n",
       "    <tr>\n",
       "      <th>5</th>\n",
       "      <td>1.758</td>\n",
       "      <td>2.220</td>\n",
       "      <td>36</td>\n",
       "      <td>73</td>\n",
       "    </tr>\n",
       "    <tr>\n",
       "      <th>6</th>\n",
       "      <td>1.087</td>\n",
       "      <td>9.950</td>\n",
       "      <td>12</td>\n",
       "      <td>306</td>\n",
       "    </tr>\n",
       "    <tr>\n",
       "      <th>7</th>\n",
       "      <td>1.121</td>\n",
       "      <td>7.830</td>\n",
       "      <td>7</td>\n",
       "      <td>77</td>\n",
       "    </tr>\n",
       "    <tr>\n",
       "      <th>8</th>\n",
       "      <td>1.758</td>\n",
       "      <td>2.220</td>\n",
       "      <td>131</td>\n",
       "      <td>286</td>\n",
       "    </tr>\n",
       "    <tr>\n",
       "      <th>9</th>\n",
       "      <td>1.163</td>\n",
       "      <td>6.260</td>\n",
       "      <td>20</td>\n",
       "      <td>251</td>\n",
       "    </tr>\n",
       "    <tr>\n",
       "      <th>10</th>\n",
       "      <td>1.377</td>\n",
       "      <td>3.410</td>\n",
       "      <td>42</td>\n",
       "      <td>55</td>\n",
       "    </tr>\n",
       "    <tr>\n",
       "      <th>11</th>\n",
       "      <td>1.917</td>\n",
       "      <td>2.010</td>\n",
       "      <td>134</td>\n",
       "      <td>78</td>\n",
       "    </tr>\n",
       "    <tr>\n",
       "      <th>12</th>\n",
       "      <td>1.769</td>\n",
       "      <td>2.200</td>\n",
       "      <td>44</td>\n",
       "      <td>25</td>\n",
       "    </tr>\n",
       "    <tr>\n",
       "      <th>13</th>\n",
       "      <td>5.570</td>\n",
       "      <td>1.190</td>\n",
       "      <td>285</td>\n",
       "      <td>28</td>\n",
       "    </tr>\n",
       "    <tr>\n",
       "      <th>14</th>\n",
       "      <td>1.483</td>\n",
       "      <td>2.900</td>\n",
       "      <td>65</td>\n",
       "      <td>173</td>\n",
       "    </tr>\n",
       "    <tr>\n",
       "      <th>15</th>\n",
       "      <td>1.294</td>\n",
       "      <td>4.050</td>\n",
       "      <td>13</td>\n",
       "      <td>76</td>\n",
       "    </tr>\n",
       "    <tr>\n",
       "      <th>16</th>\n",
       "      <td>1.424</td>\n",
       "      <td>3.150</td>\n",
       "      <td>44</td>\n",
       "      <td>58</td>\n",
       "    </tr>\n",
       "    <tr>\n",
       "      <th>17</th>\n",
       "      <td>1.159</td>\n",
       "      <td>6.390</td>\n",
       "      <td>12</td>\n",
       "      <td>131</td>\n",
       "    </tr>\n",
       "    <tr>\n",
       "      <th>18</th>\n",
       "      <td>2.400</td>\n",
       "      <td>1.658</td>\n",
       "      <td>105</td>\n",
       "      <td>81</td>\n",
       "    </tr>\n",
       "    <tr>\n",
       "      <th>19</th>\n",
       "      <td>1.125</td>\n",
       "      <td>7.650</td>\n",
       "      <td>7</td>\n",
       "      <td>134</td>\n",
       "    </tr>\n",
       "    <tr>\n",
       "      <th>20</th>\n",
       "      <td>1.258</td>\n",
       "      <td>4.450</td>\n",
       "      <td>52</td>\n",
       "      <td>285</td>\n",
       "    </tr>\n",
       "    <tr>\n",
       "      <th>21</th>\n",
       "      <td>1.500</td>\n",
       "      <td>2.830</td>\n",
       "      <td>36</td>\n",
       "      <td>119</td>\n",
       "    </tr>\n",
       "    <tr>\n",
       "      <th>22</th>\n",
       "      <td>1.211</td>\n",
       "      <td>5.170</td>\n",
       "      <td>13</td>\n",
       "      <td>65</td>\n",
       "    </tr>\n",
       "    <tr>\n",
       "      <th>23</th>\n",
       "      <td>1.935</td>\n",
       "      <td>1.990</td>\n",
       "      <td>20</td>\n",
       "      <td>42</td>\n",
       "    </tr>\n",
       "    <tr>\n",
       "      <th>24</th>\n",
       "      <td>1.222</td>\n",
       "      <td>4.960</td>\n",
       "      <td>12</td>\n",
       "      <td>105</td>\n",
       "    </tr>\n",
       "    <tr>\n",
       "      <th>25</th>\n",
       "      <td>1.667</td>\n",
       "      <td>2.380</td>\n",
       "      <td>13</td>\n",
       "      <td>44</td>\n",
       "    </tr>\n",
       "    <tr>\n",
       "      <th>26</th>\n",
       "      <td>1.322</td>\n",
       "      <td>3.800</td>\n",
       "      <td>20</td>\n",
       "      <td>36</td>\n",
       "    </tr>\n",
       "    <tr>\n",
       "      <th>27</th>\n",
       "      <td>1.293</td>\n",
       "      <td>4.060</td>\n",
       "      <td>7</td>\n",
       "      <td>52</td>\n",
       "    </tr>\n",
       "    <tr>\n",
       "      <th>28</th>\n",
       "      <td>2.350</td>\n",
       "      <td>1.685</td>\n",
       "      <td>12</td>\n",
       "      <td>13</td>\n",
       "    </tr>\n",
       "    <tr>\n",
       "      <th>29</th>\n",
       "      <td>1.357</td>\n",
       "      <td>3.540</td>\n",
       "      <td>7</td>\n",
       "      <td>20</td>\n",
       "    </tr>\n",
       "    <tr>\n",
       "      <th>...</th>\n",
       "      <td>...</td>\n",
       "      <td>...</td>\n",
       "      <td>...</td>\n",
       "      <td>...</td>\n",
       "    </tr>\n",
       "    <tr>\n",
       "      <th>20276</th>\n",
       "      <td>4.760</td>\n",
       "      <td>1.230</td>\n",
       "      <td>36</td>\n",
       "      <td>7</td>\n",
       "    </tr>\n",
       "    <tr>\n",
       "      <th>20277</th>\n",
       "      <td>1.430</td>\n",
       "      <td>3.080</td>\n",
       "      <td>52</td>\n",
       "      <td>85</td>\n",
       "    </tr>\n",
       "    <tr>\n",
       "      <th>20278</th>\n",
       "      <td>1.410</td>\n",
       "      <td>3.180</td>\n",
       "      <td>16</td>\n",
       "      <td>44</td>\n",
       "    </tr>\n",
       "    <tr>\n",
       "      <th>20279</th>\n",
       "      <td>2.660</td>\n",
       "      <td>1.540</td>\n",
       "      <td>22</td>\n",
       "      <td>9</td>\n",
       "    </tr>\n",
       "    <tr>\n",
       "      <th>20280</th>\n",
       "      <td>1.030</td>\n",
       "      <td>20.500</td>\n",
       "      <td>3</td>\n",
       "      <td>116</td>\n",
       "    </tr>\n",
       "    <tr>\n",
       "      <th>20281</th>\n",
       "      <td>5.310</td>\n",
       "      <td>1.200</td>\n",
       "      <td>143</td>\n",
       "      <td>31</td>\n",
       "    </tr>\n",
       "    <tr>\n",
       "      <th>20282</th>\n",
       "      <td>2.380</td>\n",
       "      <td>1.650</td>\n",
       "      <td>33</td>\n",
       "      <td>17</td>\n",
       "    </tr>\n",
       "    <tr>\n",
       "      <th>20283</th>\n",
       "      <td>1.310</td>\n",
       "      <td>3.790</td>\n",
       "      <td>11</td>\n",
       "      <td>26</td>\n",
       "    </tr>\n",
       "    <tr>\n",
       "      <th>20284</th>\n",
       "      <td>1.470</td>\n",
       "      <td>2.890</td>\n",
       "      <td>32</td>\n",
       "      <td>15</td>\n",
       "    </tr>\n",
       "    <tr>\n",
       "      <th>20285</th>\n",
       "      <td>1.150</td>\n",
       "      <td>6.530</td>\n",
       "      <td>24</td>\n",
       "      <td>38</td>\n",
       "    </tr>\n",
       "    <tr>\n",
       "      <th>20286</th>\n",
       "      <td>1.260</td>\n",
       "      <td>4.380</td>\n",
       "      <td>8</td>\n",
       "      <td>29</td>\n",
       "    </tr>\n",
       "    <tr>\n",
       "      <th>20287</th>\n",
       "      <td>1.110</td>\n",
       "      <td>7.840</td>\n",
       "      <td>2</td>\n",
       "      <td>55</td>\n",
       "    </tr>\n",
       "    <tr>\n",
       "      <th>20288</th>\n",
       "      <td>2.860</td>\n",
       "      <td>1.480</td>\n",
       "      <td>56</td>\n",
       "      <td>13</td>\n",
       "    </tr>\n",
       "    <tr>\n",
       "      <th>20289</th>\n",
       "      <td>5.320</td>\n",
       "      <td>1.200</td>\n",
       "      <td>42</td>\n",
       "      <td>10</td>\n",
       "    </tr>\n",
       "    <tr>\n",
       "      <th>20290</th>\n",
       "      <td>2.750</td>\n",
       "      <td>1.510</td>\n",
       "      <td>20</td>\n",
       "      <td>12</td>\n",
       "    </tr>\n",
       "    <tr>\n",
       "      <th>20291</th>\n",
       "      <td>1.940</td>\n",
       "      <td>1.980</td>\n",
       "      <td>16</td>\n",
       "      <td>22</td>\n",
       "    </tr>\n",
       "    <tr>\n",
       "      <th>20292</th>\n",
       "      <td>1.920</td>\n",
       "      <td>2.010</td>\n",
       "      <td>36</td>\n",
       "      <td>66</td>\n",
       "    </tr>\n",
       "    <tr>\n",
       "      <th>20293</th>\n",
       "      <td>3.970</td>\n",
       "      <td>1.300</td>\n",
       "      <td>52</td>\n",
       "      <td>11</td>\n",
       "    </tr>\n",
       "    <tr>\n",
       "      <th>20294</th>\n",
       "      <td>1.060</td>\n",
       "      <td>13.840</td>\n",
       "      <td>3</td>\n",
       "      <td>33</td>\n",
       "    </tr>\n",
       "    <tr>\n",
       "      <th>20295</th>\n",
       "      <td>1.820</td>\n",
       "      <td>2.130</td>\n",
       "      <td>32</td>\n",
       "      <td>20</td>\n",
       "    </tr>\n",
       "    <tr>\n",
       "      <th>20296</th>\n",
       "      <td>2.090</td>\n",
       "      <td>1.850</td>\n",
       "      <td>8</td>\n",
       "      <td>24</td>\n",
       "    </tr>\n",
       "    <tr>\n",
       "      <th>20297</th>\n",
       "      <td>2.050</td>\n",
       "      <td>1.880</td>\n",
       "      <td>42</td>\n",
       "      <td>56</td>\n",
       "    </tr>\n",
       "    <tr>\n",
       "      <th>20298</th>\n",
       "      <td>9.550</td>\n",
       "      <td>1.090</td>\n",
       "      <td>143</td>\n",
       "      <td>2</td>\n",
       "    </tr>\n",
       "    <tr>\n",
       "      <th>20299</th>\n",
       "      <td>1.650</td>\n",
       "      <td>2.430</td>\n",
       "      <td>52</td>\n",
       "      <td>36</td>\n",
       "    </tr>\n",
       "    <tr>\n",
       "      <th>20300</th>\n",
       "      <td>1.130</td>\n",
       "      <td>7.580</td>\n",
       "      <td>3</td>\n",
       "      <td>16</td>\n",
       "    </tr>\n",
       "    <tr>\n",
       "      <th>20301</th>\n",
       "      <td>2.650</td>\n",
       "      <td>1.560</td>\n",
       "      <td>143</td>\n",
       "      <td>42</td>\n",
       "    </tr>\n",
       "    <tr>\n",
       "      <th>20302</th>\n",
       "      <td>1.470</td>\n",
       "      <td>2.950</td>\n",
       "      <td>8</td>\n",
       "      <td>32</td>\n",
       "    </tr>\n",
       "    <tr>\n",
       "      <th>20303</th>\n",
       "      <td>1.060</td>\n",
       "      <td>13.840</td>\n",
       "      <td>3</td>\n",
       "      <td>52</td>\n",
       "    </tr>\n",
       "    <tr>\n",
       "      <th>20304</th>\n",
       "      <td>1.220</td>\n",
       "      <td>5.010</td>\n",
       "      <td>8</td>\n",
       "      <td>143</td>\n",
       "    </tr>\n",
       "    <tr>\n",
       "      <th>20305</th>\n",
       "      <td>3.540</td>\n",
       "      <td>1.360</td>\n",
       "      <td>8</td>\n",
       "      <td>3</td>\n",
       "    </tr>\n",
       "  </tbody>\n",
       "</table>\n",
       "<p>20306 rows × 4 columns</p>\n",
       "</div>"
      ],
      "text/plain": [
       "         PSW     PSL  WRank  LRank\n",
       "0      1.526   2.740     52     88\n",
       "1      2.140   1.813    105     63\n",
       "2      1.676   2.360     58     80\n",
       "3      2.580   1.581     81     32\n",
       "4      2.170   1.787    119     67\n",
       "5      1.758   2.220     36     73\n",
       "6      1.087   9.950     12    306\n",
       "7      1.121   7.830      7     77\n",
       "8      1.758   2.220    131    286\n",
       "9      1.163   6.260     20    251\n",
       "10     1.377   3.410     42     55\n",
       "11     1.917   2.010    134     78\n",
       "12     1.769   2.200     44     25\n",
       "13     5.570   1.190    285     28\n",
       "14     1.483   2.900     65    173\n",
       "15     1.294   4.050     13     76\n",
       "16     1.424   3.150     44     58\n",
       "17     1.159   6.390     12    131\n",
       "18     2.400   1.658    105     81\n",
       "19     1.125   7.650      7    134\n",
       "20     1.258   4.450     52    285\n",
       "21     1.500   2.830     36    119\n",
       "22     1.211   5.170     13     65\n",
       "23     1.935   1.990     20     42\n",
       "24     1.222   4.960     12    105\n",
       "25     1.667   2.380     13     44\n",
       "26     1.322   3.800     20     36\n",
       "27     1.293   4.060      7     52\n",
       "28     2.350   1.685     12     13\n",
       "29     1.357   3.540      7     20\n",
       "...      ...     ...    ...    ...\n",
       "20276  4.760   1.230     36      7\n",
       "20277  1.430   3.080     52     85\n",
       "20278  1.410   3.180     16     44\n",
       "20279  2.660   1.540     22      9\n",
       "20280  1.030  20.500      3    116\n",
       "20281  5.310   1.200    143     31\n",
       "20282  2.380   1.650     33     17\n",
       "20283  1.310   3.790     11     26\n",
       "20284  1.470   2.890     32     15\n",
       "20285  1.150   6.530     24     38\n",
       "20286  1.260   4.380      8     29\n",
       "20287  1.110   7.840      2     55\n",
       "20288  2.860   1.480     56     13\n",
       "20289  5.320   1.200     42     10\n",
       "20290  2.750   1.510     20     12\n",
       "20291  1.940   1.980     16     22\n",
       "20292  1.920   2.010     36     66\n",
       "20293  3.970   1.300     52     11\n",
       "20294  1.060  13.840      3     33\n",
       "20295  1.820   2.130     32     20\n",
       "20296  2.090   1.850      8     24\n",
       "20297  2.050   1.880     42     56\n",
       "20298  9.550   1.090    143      2\n",
       "20299  1.650   2.430     52     36\n",
       "20300  1.130   7.580      3     16\n",
       "20301  2.650   1.560    143     42\n",
       "20302  1.470   2.950      8     32\n",
       "20303  1.060  13.840      3     52\n",
       "20304  1.220   5.010      8    143\n",
       "20305  3.540   1.360      8      3\n",
       "\n",
       "[20306 rows x 4 columns]"
      ]
     },
     "execution_count": 97,
     "metadata": {},
     "output_type": "execute_result"
    }
   ],
   "source": [
    "rawdata"
   ]
  },
  {
   "cell_type": "markdown",
   "metadata": {},
   "source": [
    "## IV.  <a name=\"todos\"> TODOs </a>"
   ]
  },
  {
   "cell_type": "markdown",
   "metadata": {},
   "source": [
    "This work is just the begining part of this analysis.  The gold standard for professional tennis match prediction is to beat the betting market.  There is odds data available for many of these matches, and the proper metric for predictive success is probably percentage increase in profit.\n",
    "\n",
    "Further work includes the following:\n",
    "\n",
    "1.  implement a neural net\n",
    "2.  systematically investigate other combinations of features, including polynomial features\n",
    "3.  use `join` commands to extract more complex subsets of the data (i.e. court-type specific data, players of a certain origin, players with certain tournament play patterns, etc.)\n",
    "4.  benchmark algorithms against one another using expected winnings ideas"
   ]
  },
  {
   "cell_type": "code",
   "execution_count": null,
   "metadata": {
    "collapsed": true
   },
   "outputs": [],
   "source": []
  }
 ],
 "metadata": {
  "kernelspec": {
   "display_name": "Python 2.7",
   "language": "python",
   "name": "python2"
  },
  "language_info": {
   "codemirror_mode": {
    "name": "ipython",
    "version": 2
   },
   "file_extension": ".py",
   "mimetype": "text/x-python",
   "name": "python",
   "nbconvert_exporter": "python",
   "pygments_lexer": "ipython2",
   "version": "2.7.11"
  }
 },
 "nbformat": 4,
 "nbformat_minor": 1
}
