{
 "cells": [
  {
   "cell_type": "markdown",
   "metadata": {},
   "source": [
    "## <p style=\"text-align: center\">  Extracting features</p>\n",
    "\n",
    "**Author:**  Carl Toews    \n",
    "**File:  ** extract_features.ipynb  \n",
    "\n",
    "### Description:\n",
    "\n",
    "In order to implement machine learning algorithms, we need to develop a set of informative features.  Following *Machine learning for predicting professional tennis matches* [Sipko, 2015], for each match we assign one player to be \"Player 0\" and the other to be \"Player 1\", and call the outcome a 0 if Player 0 won and a 1 otherwise.  For each match, we produce a set of features, each a measure of *difference* between some characteristic of the two players.  The characteristics we consider include the following (many  of these are from Sipko):\n",
    "\n",
    "* RANK:  rank  \n",
    "* RANKPTS:  rank points  \n",
    "* HT:  height  \n",
    "* HND: handedness\n",
    "* FS:  percentage of successful first serves \n",
    "* W1SP:  percentage of winning first serves  \n",
    "* W2SP: percentage of winning second serves  \n",
    "* WSP:  overall percentage winning on serves  \n",
    "* WRP:  winning on return percentage  \n",
    "* TPW: percentage of all points won  \n",
    "* TMW: percentage of all matches won\n",
    "* ACES: average number of aces per game  \n",
    "* DF:  average number of double faults per game  \n",
    "* BP: percentage of break points won  \n",
    "* FATIGUE: fatigue from matches in past X days  \n",
    "* RETIRED: whether 1st match since retirement \n",
    "* COMPLETE: player completeness score (Sipko)\n",
    "* SERVEADV: advantage when serving  \n",
    "* DIRECT:  head to head balanace.  \n",
    "\n",
    "In order to derive these features, we'll first need to clean the data a bit.  Specifically, we need to deal with missing or null values, as well as rectify incorrect values.  Examples of issues include:  \n",
    "*  The 'score' column contains inconsistent strings for indicating irregular outcomes\n",
    "*  Many matches don't include statistics such as ace rates, double faults, etc.\n",
    " "
   ]
  },
  {
   "cell_type": "markdown",
   "metadata": {},
   "source": [
    "# I.  Data extraction"
   ]
  },
  {
   "cell_type": "markdown",
   "metadata": {},
   "source": [
    "Import statements"
   ]
  },
  {
   "cell_type": "code",
   "execution_count": 474,
   "metadata": {
    "collapsed": true
   },
   "outputs": [],
   "source": [
    "import sqlalchemy # pandas-mysql interface library\n",
    "import sqlalchemy.exc # exception handling\n",
    "from   sqlalchemy import create_engine  # needed to define db interface\n",
    "import sys # for defining behavior under errors\n",
    "import numpy as np # numerical libraries\n",
    "import scipy as sp\n",
    "import pandas as pd # for data analysis\n",
    "import pandas.io.sql as sql # for interfacing with MySQL database\n",
    "import matplotlib as mpl # a big library with plotting functionality\n",
    "import matplotlib.pyplot as plt # a subset of matplotlib with most of the useful tools\n",
    "import IPython as IP\n",
    "%matplotlib inline \n",
    "import pdb\n",
    "#%qtconsole"
   ]
  },
  {
   "cell_type": "markdown",
   "metadata": {},
   "source": [
    "Player and odds data from 2010-2016 has beeen matched and stored.  Retrieve, merge, and rename."
   ]
  },
  {
   "cell_type": "code",
   "execution_count": 973,
   "metadata": {},
   "outputs": [],
   "source": [
    "pickle_dir = '../pickle_files/'\n",
    "odds_file = 'odds.pkl'\n",
    "matches_file = 'matches.pkl'\n",
    "\n",
    "odds= pd.read_pickle(pickle_dir + odds_file)\n",
    "matches= pd.read_pickle(pickle_dir + matches_file)\n",
    "data = pd.merge(matches,odds[['PSW','PSL','key']],how='inner',on='key')"
   ]
  },
  {
   "cell_type": "markdown",
   "metadata": {},
   "source": [
    "Get additional training data.  We'll include data from 2005, excluding Davis Cup matches, and focusing exclusively on players who played in our 2010-2016 set."
   ]
  },
  {
   "cell_type": "code",
   "execution_count": 1149,
   "metadata": {
    "collapsed": true
   },
   "outputs": [],
   "source": [
    "# name of database\n",
    "db_name = \"tennis\"\n",
    "# name of db user\n",
    "username = \"testuser\"\n",
    "# db password for db user\n",
    "password = \"test623\"\n",
    "# location of atp data files\n",
    "atpfile_directory = \"../data/tennis_atp-master/\"\n",
    "\n",
    "# focus on most recent data; exclude Davis Cup stuff\n",
    "startdate = '20050101'\n",
    "enddate = '20161231'\n",
    "\n",
    "engine = create_engine('mysql+mysqldb://' + username + ':' + password + '@localhost/' + db_name)\n",
    "    \n",
    "# get unique winners and losers in our set\n",
    "players = tuple(pd.concat((data.winner_id,data.loser_id)).unique())\n",
    "\n",
    "# load all data pertinant for any player\n",
    "with engine.begin() as connection:\n",
    "    matches_hist = pd.read_sql_query(\"\"\"SELECT * FROM matches \\\n",
    "    WHERE tourney_date >= '\"\"\" + startdate + \"\"\"' \\\n",
    "    AND tourney_date <= '\"\"\" + enddate + \"\"\"' \\\n",
    "    AND (winner_id IN %(p)s \\\n",
    "    OR loser_id IN %(p)s) \\\n",
    "    AND tourney_name NOT LIKE 'Davis%%';\"\"\",connection,params={'p':players})  "
   ]
  },
  {
   "cell_type": "markdown",
   "metadata": {},
   "source": [
    "# II. Calculate match statistics"
   ]
  },
  {
   "cell_type": "markdown",
   "metadata": {},
   "source": [
    "Many of the features we will develop will involve quantities derived from previous matches.  Examples include weighted historical averages of winning first serves, double faults, etc.  This section calculates some important quantities for each match."
   ]
  },
  {
   "cell_type": "markdown",
   "metadata": {},
   "source": [
    "*Insert index on `matches_hist`*"
   ]
  },
  {
   "cell_type": "code",
   "execution_count": 1151,
   "metadata": {},
   "outputs": [],
   "source": [
    "matches_hist['key'] = np.arange(len(matches_hist))"
   ]
  },
  {
   "cell_type": "markdown",
   "metadata": {},
   "source": [
    "*Extract text string indicating unusual match outcomes*"
   ]
  },
  {
   "cell_type": "code",
   "execution_count": 1152,
   "metadata": {
    "collapsed": true
   },
   "outputs": [],
   "source": [
    "# scores are just numbers, unless something weird happened.  Extract comments about irregular outcomes.  \n",
    "t=matches_hist.score.str.extractall('(?P<comment>[a-zA-Z]+.+)').xs(0,level='match')\n",
    "matches_hist = pd.merge(matches_hist,t,how='outer',left_index=True, right_index=True)"
   ]
  },
  {
   "cell_type": "code",
   "execution_count": 1191,
   "metadata": {},
   "outputs": [
    {
     "data": {
      "text/plain": [
       "array([nan, 'W/O', 'RET', 'DEF', 'Jun'], dtype=object)"
      ]
     },
     "execution_count": 1191,
     "metadata": {},
     "output_type": "execute_result"
    }
   ],
   "source": [
    "#matches_hist.comment=='RET'\n",
    "matches_hist.comment.unique()\n"
   ]
  },
  {
   "cell_type": "markdown",
   "metadata": {},
   "source": [
    "*Calculate games scores for each set, store in a separate dataframe*"
   ]
  },
  {
   "cell_type": "code",
   "execution_count": 1153,
   "metadata": {},
   "outputs": [],
   "source": [
    "# discard comments and trailing white space\n",
    "scores = matches_hist.score.str.replace('(?P<comment>[a-zA-Z]+.+)','')\n",
    "scores = scores.str.replace('(?P<comment>\\([0-9]+\\))','').str.strip()\n",
    "# split the game scores into columns of a dataframe\n",
    "scores = scores.str.split('-|\\s',expand=True)\n",
    "scores.columns=['W1','L1','W2','L2','W3','L3','W4','L4','W5','L5']\n",
    "scores = scores.apply(lambda x: pd.to_numeric(x))"
   ]
  },
  {
   "cell_type": "markdown",
   "metadata": {},
   "source": [
    "*Store the number of games played in each match.*"
   ]
  },
  {
   "cell_type": "code",
   "execution_count": 1154,
   "metadata": {
    "collapsed": true
   },
   "outputs": [],
   "source": [
    "ngames = np.sum(scores,axis=1)\n",
    "matches_hist.insert(0,'ngames',ngames.astype('int'))"
   ]
  },
  {
   "cell_type": "markdown",
   "metadata": {},
   "source": [
    "It seems a few matches were cut short for no recorded reason:"
   ]
  },
  {
   "cell_type": "code",
   "execution_count": 1155,
   "metadata": {},
   "outputs": [
    {
     "name": "stdout",
     "output_type": "stream",
     "text": [
      "matches with weird outcomes:  \n",
      "6018     6-3 1-1\n",
      "7245     6-3 1-0\n",
      "7286        None\n",
      "7466         4-0\n",
      "7937     6-3 1-0\n",
      "19303        4-1\n",
      "Name: score, dtype: object\n"
     ]
    }
   ],
   "source": [
    "# sanity check:  are matches involving few than 12 games identical to those with commments?\n",
    "idx1 = (ngames<12)\n",
    "idx2 = matches_hist.comment.notnull()\n",
    "z=(idx1*1)*(idx2*1-1)\n",
    "zz = np.where(np.abs(z))[0]\n",
    "print(\"matches with weird outcomes:  \")\n",
    "print(matches_hist.loc[zz,'score'])"
   ]
  },
  {
   "cell_type": "markdown",
   "metadata": {},
   "source": [
    "*Calcuate **first serve percentages (fsp)** for both winners and losers.*"
   ]
  },
  {
   "cell_type": "code",
   "execution_count": 1156,
   "metadata": {},
   "outputs": [],
   "source": [
    "matches_hist.insert(0,'w_fsp',matches_hist.w_1stIn/matches_hist.w_svpt)\n",
    "matches_hist.insert(0,'l_fsp',matches_hist.l_1stIn/matches_hist.l_svpt)"
   ]
  },
  {
   "cell_type": "markdown",
   "metadata": {},
   "source": [
    "*Calculate **winning first serve percentages (wfsp)***"
   ]
  },
  {
   "cell_type": "code",
   "execution_count": 1157,
   "metadata": {},
   "outputs": [],
   "source": [
    "matches_hist.insert(0,'w_wfs',matches_hist.w_1stWon/matches_hist.w_svpt)\n",
    "matches_hist.insert(0,'l_wfs',matches_hist.l_1stWon/matches_hist.l_svpt)"
   ]
  },
  {
   "cell_type": "markdown",
   "metadata": {},
   "source": [
    "*Calculate **second serves in (2ndIn)** for both winners and losers*"
   ]
  },
  {
   "cell_type": "code",
   "execution_count": 1158,
   "metadata": {
    "collapsed": true
   },
   "outputs": [],
   "source": [
    "matches_hist.insert(0,'w_2ndIn',matches_hist.w_svpt-matches_hist.w_df-matches_hist.w_1stIn)\n",
    "matches_hist.insert(0,'l_2ndIn',matches_hist.l_svpt-matches_hist.l_df-matches_hist.l_1stIn)"
   ]
  },
  {
   "cell_type": "markdown",
   "metadata": {},
   "source": [
    "*Calculate **second serve (ss)** percentages *"
   ]
  },
  {
   "cell_type": "code",
   "execution_count": 1159,
   "metadata": {
    "collapsed": true
   },
   "outputs": [],
   "source": [
    "matches_hist.insert(0,'w_ssp',matches_hist.w_2ndIn/(matches_hist.w_2ndIn+matches_hist.w_df))\n",
    "matches_hist.insert(0,'l_ssp',matches_hist.l_2ndIn/(matches_hist.l_2ndIn+matches_hist.l_df))"
   ]
  },
  {
   "cell_type": "markdown",
   "metadata": {},
   "source": [
    "*Calculate **wining second serve percentages (wssp)***"
   ]
  },
  {
   "cell_type": "code",
   "execution_count": 1160,
   "metadata": {},
   "outputs": [],
   "source": [
    "matches_hist.insert(0,'w_wss',matches_hist.w_2ndWon/matches_hist.w_2ndIn)\n",
    "matches_hist.insert(0,'l_wss',matches_hist.l_2ndWon/matches_hist.l_2ndIn)"
   ]
  },
  {
   "cell_type": "markdown",
   "metadata": {},
   "source": [
    "*Calculate **overall win on serve percentages (owsp)***"
   ]
  },
  {
   "cell_type": "code",
   "execution_count": 1161,
   "metadata": {},
   "outputs": [],
   "source": [
    "matches_hist.insert(0,'w_wsp',(matches_hist.w_1stWon+matches_hist.w_2ndWon)/\\\n",
    "                    matches_hist.w_svpt)\n",
    "matches_hist.insert(0,'l_wsp',(matches_hist.w_1stWon+matches_hist.w_2ndWon)/\\\n",
    "                    matches_hist.w_svpt)"
   ]
  },
  {
   "cell_type": "markdown",
   "metadata": {},
   "source": [
    "*Calculate **winning on return percentages (wrp)**.  Ignore opponent double faults.*"
   ]
  },
  {
   "cell_type": "code",
   "execution_count": 1162,
   "metadata": {},
   "outputs": [],
   "source": [
    "matches_hist.insert(0,'w_wrp',(matches_hist.l_svpt - matches_hist.l_df)/\\\n",
    "                    (matches_hist.l_1stWon+matches_hist.l_2ndWon))\n",
    "matches_hist.insert(0,'l_wrp',(matches_hist.w_svpt - matches_hist.w_df)/\\\n",
    "                    (matches_hist.w_1stWon+matches_hist.w_2ndWon))"
   ]
  },
  {
   "cell_type": "markdown",
   "metadata": {},
   "source": [
    "*Calculate **total points won percentage (tpwp)***"
   ]
  },
  {
   "cell_type": "code",
   "execution_count": 1163,
   "metadata": {},
   "outputs": [],
   "source": [
    "matches_hist.insert(0,'w_tpw',(matches_hist.l_svpt\\\n",
    "                          -matches_hist.l_1stWon-matches_hist.l_2ndWon\\\n",
    "                          +matches_hist.w_1stWon +matches_hist.w_2ndWon)/\\\n",
    "                        (matches_hist.l_svpt + matches_hist.w_svpt))\n",
    "matches_hist.insert(0,'l_tpw',(matches_hist.w_svpt\\\n",
    "                        -matches_hist.w_1stWon-matches_hist.w_2ndWon\\\n",
    "                        +matches_hist.l_1stWon +matches_hist.l_2ndWon)/\\\n",
    "                        (matches_hist.l_svpt + matches_hist.w_svpt))"
   ]
  },
  {
   "cell_type": "markdown",
   "metadata": {},
   "source": [
    "*Calculate **double faults per game (dfpg)**, per game*"
   ]
  },
  {
   "cell_type": "code",
   "execution_count": 1169,
   "metadata": {},
   "outputs": [],
   "source": [
    "matches_hist.insert(0,'w_dfpg',matches_hist.w_df/matches_hist.w_SvGms)\n",
    "matches_hist.insert(0,'l_dfpg',matches_hist.l_df/matches_hist.l_SvGms)"
   ]
  },
  {
   "cell_type": "markdown",
   "metadata": {},
   "source": [
    "*Calculate **aces per game (acpg)**, per game*"
   ]
  },
  {
   "cell_type": "code",
   "execution_count": 1165,
   "metadata": {
    "collapsed": true
   },
   "outputs": [],
   "source": [
    "matches_hist.insert(0,'w_acpg',matches_hist.w_ace/matches_hist.w_SvGms)\n",
    "matches_hist.insert(0,'l_acpg',matches_hist.l_ace/matches_hist.l_SvGms)"
   ]
  },
  {
   "cell_type": "markdown",
   "metadata": {},
   "source": [
    "*Calculate **break points saved percentage (bpsp)***"
   ]
  },
  {
   "cell_type": "code",
   "execution_count": 1166,
   "metadata": {
    "collapsed": true
   },
   "outputs": [],
   "source": [
    "matches_hist.insert(0,'w_bps',matches_hist.w_bpSaved/matches_hist.w_bpFaced)\n",
    "matches_hist.insert(0,'l_bps',matches_hist.l_bpSaved/matches_hist.l_bpFaced)"
   ]
  },
  {
   "cell_type": "markdown",
   "metadata": {},
   "source": [
    "*Flag **games with premature closure, probably due to injury (retired)***"
   ]
  },
  {
   "cell_type": "code",
   "execution_count": 1199,
   "metadata": {},
   "outputs": [
    {
     "data": {
      "text/plain": [
       "1063"
      ]
     },
     "execution_count": 1199,
     "metadata": {},
     "output_type": "execute_result"
    }
   ],
   "source": [
    "matches_hist.insert(0,'retired',0)\n",
    "matches_hist.loc[(matches_hist.comment=='RET'),'retired']=1"
   ]
  },
  {
   "cell_type": "markdown",
   "metadata": {},
   "source": [
    "*Flag **games won as a walkover (wo)***"
   ]
  },
  {
   "cell_type": "code",
   "execution_count": 1201,
   "metadata": {},
   "outputs": [
    {
     "data": {
      "text/plain": [
       "180"
      ]
     },
     "execution_count": 1201,
     "metadata": {},
     "output_type": "execute_result"
    }
   ],
   "source": [
    "matches_hist.insert(0,'walkover',0)\n",
    "matches_hist.loc[(matches_hist.comment=='W/O'),'walkover']=1"
   ]
  },
  {
   "cell_type": "markdown",
   "metadata": {},
   "source": [
    "*Calculate player **completeness (complete)**, defined as*\n",
    "$$\n",
    "wsp \\times wrp\n",
    "$$\n",
    "\n",
    "**Note:** *might be more useful to aggregate first, rather than compute on a per-match basis.*"
   ]
  },
  {
   "cell_type": "code",
   "execution_count": 1167,
   "metadata": {
    "collapsed": true
   },
   "outputs": [],
   "source": [
    "#matches_hist.insert(0,'w_complete',matches_hist.w_wsp*matches_hist.w_wrp)\n",
    "#matches_hist.insert(0,'l_complete',matches_hist.l_wsp*matches_hist.l_wrp)"
   ]
  },
  {
   "cell_type": "markdown",
   "metadata": {},
   "source": [
    "*Calculate player **service advantage (serveadv)**, defined as*\n",
    "\n",
    "$$\n",
    "wsp_1 -wrp_2\n",
    "$$\n",
    "\n",
    "**Note:** *as with **complete**, it might be more useful to aggregated first*"
   ]
  },
  {
   "cell_type": "code",
   "execution_count": 1146,
   "metadata": {
    "collapsed": true
   },
   "outputs": [],
   "source": [
    "#matches_hist.insert(0,'w_serveadv',matches_hist.w_wsp-matches_hist.l_wrp)\n",
    "#matches_hist.insert(0,'l_serveadv',matches_hist.l_wsp-matches_hist.w_wrp)"
   ]
  },
  {
   "cell_type": "markdown",
   "metadata": {},
   "source": [
    "# III.  Calculate (weighted) historical averages\n",
    "\n",
    "Some features can be calculated for each match, but only work as predictive elements when averaged over preceding matches.  Examples include first serve percentages, double fault rates, etc.  This section calculates such averages for each match in the training-validation-test dataset.  Since we've extracted data that extends five years before the start time of this dataset, there should be reasonable historical data for every match.  "
   ]
  },
  {
   "cell_type": "markdown",
   "metadata": {},
   "source": [
    "*Extract winner and loser data separately and concatenate into dataframe with uniform column names.*"
   ]
  },
  {
   "cell_type": "code",
   "execution_count": 1205,
   "metadata": {},
   "outputs": [],
   "source": [
    "# extract winner stats\n",
    "w_records = matches_hist[['winner_id',\n",
    "                          'tourney_date',\n",
    "                          'tourney_id',\n",
    "                          'match_num',\n",
    "                          'ngames',\n",
    "                          'key',\n",
    "                          'w_acpg', # avg. no of aces per game\n",
    "                          'w_dfpg', # avg no. of double faults per game\n",
    "                          'w_tpw',  # total points won\n",
    "                          'w_wrp',  # wining return percent\n",
    "                          'w_wsp',  # winning service percent\n",
    "                          'w_wss',  # winning second serve percent\n",
    "                          'w_wfs',  # winning first serve percent\n",
    "                          'w_fsp',  # good first serves percent\n",
    "                          'w_ssp',  # good second serves percent\n",
    "                          'w_bps',  # breakpoints saved percent \n",
    "                          'retired',# 1 if loser retired prematurely\n",
    "                          'walkover', # 1 if loser didn't show up\n",
    "                          'surface', # 'Hard', 'Clay', or 'Grass'\n",
    "                          'winner_age',  # age\n",
    "                          'winner_ht',   # height\n",
    "                          'winner_rank', # rank\n",
    "                          'winner_rank_points' # rank points\n",
    "                         ]]\n",
    "\n",
    "# rename columns\n",
    "newcols = {'winner_id':'pid', \n",
    "           'tourney_date':'date',\n",
    "           'tourney_id':'tid',\n",
    "           'match_num':'mid',\n",
    "           'ngames':'ngames',\n",
    "           'key':'key',\n",
    "           'w_acpg':'acpg',\n",
    "           'w_dfpg':'dfpg',\n",
    "           'w_tpw':'tpw',\n",
    "           'w_wrp':'wrp',\n",
    "           'w_wsp':'wsp',\n",
    "           'w_wss':'wss',\n",
    "           'w_wfs':'wfs',\n",
    "           'w_fsp':'fsp',\n",
    "           'w_ssp':'ssp',\n",
    "           'w_bps':'bps',\n",
    "           'retired':'retired',\n",
    "           'walkover':'walkover',\n",
    "           'surface':'surface',\n",
    "           'winner_age':'age',  \n",
    "           'winner_ht':'ht',   \n",
    "           'winner_rank':'rank', \n",
    "           'winner_rank_points':'rank_points'\n",
    "          }\n",
    "w_records = w_records.rename(columns = newcols)\n",
    "\n",
    "# record that the outcome was a victory for these players\n",
    "w_records['outcome'] = np.ones(len(w_records))\n",
    "\n",
    "# extract loser stats\n",
    "l_records = matches_hist[['loser_id',\n",
    "                          'tourney_date',\n",
    "                          'tourney_id',\n",
    "                          'match_num',\n",
    "                          'ngames',\n",
    "                          'key',\n",
    "                          'l_acpg', # avg. no of aces per game\n",
    "                          'l_dfpg',  # avg no. of double faults per game\n",
    "                          'l_tpw',  # total points won\n",
    "                          'l_wrp',  # wining return percent\n",
    "                          'l_wsp',  # winning service percent\n",
    "                          'l_wss',  # winning second serve percent\n",
    "                          'l_wfs',  # winning first serve percent\n",
    "                          'l_fsp',  # percent of successful first serves\n",
    "                          'l_ssp',  # percent of successful second serves\n",
    "                          'l_bps',  # percent of breakpoints saved  \n",
    "                          'retired',# 1 if loser retired prematurely\n",
    "                          'walkover',# 1 if loser didn't show up\n",
    "                          'surface', # 'Hard', 'Clay', or 'Grass'\n",
    "                          'loser_age',  # age\n",
    "                          'loser_ht',   # height\n",
    "                          'loser_rank', # rank\n",
    "                          'loser_rank_points' # rank points\n",
    "                         ]]\n",
    "\n",
    "# rename columns\n",
    "newcols = {'loser_id':'pid', \n",
    "           'tourney_date':'date',\n",
    "           'tourney_id':'tid',\n",
    "           'match_num':'mid',\n",
    "           'ngames':'ngames',\n",
    "           'key':'key',\n",
    "           'l_acpg':'acpg',\n",
    "           'l_dfpg':'dfpg',\n",
    "           'l_tpw':'tpw',\n",
    "           'l_wrp':'wrp',\n",
    "           'l_wsp':'wsp',\n",
    "           'l_wss':'wss',\n",
    "           'l_wfs':'wfs',\n",
    "           'l_fsp':'fsp',\n",
    "           'l_ssp':'ssp',\n",
    "           'l_bps':'bps', \n",
    "           'retired':'retired',\n",
    "           'walkover':'walkover',\n",
    "           'surface':'surface',\n",
    "           'loser_age':'age',  \n",
    "           'loser_ht':'ht',   \n",
    "           'loser_rank':'rank', \n",
    "           'loser_rank_points':'rank_points'\n",
    "          }\n",
    "l_records = l_records.rename(columns = newcols)\n",
    "\n",
    "# record outcome as a loss\n",
    "l_records['outcome'] = np.zeros(len(w_records))\n",
    "\n",
    "# fuse all the data into one dataframe\n",
    "all_records = pd.concat([w_records,l_records]).reset_index().sort_values(['key','date'])"
   ]
  },
  {
   "cell_type": "code",
   "execution_count": 1114,
   "metadata": {},
   "outputs": [
    {
     "data": {
      "text/plain": [
       "1.0"
      ]
     },
     "execution_count": 1114,
     "metadata": {},
     "output_type": "execute_result"
    }
   ],
   "source": []
  },
  {
   "cell_type": "code",
   "execution_count": 1066,
   "metadata": {},
   "outputs": [],
   "source": [
    "def get_time_discount(x):\n",
    "    \"\"\"\n",
    "    Input:  a row of a dataframe.  The dataframe should have at least two columns, \n",
    "    one called `pid`, the other `date`.  \n",
    "    \"\"\"\n",
    "    \n",
    "    # assign a base for exponential decay of value\n",
    "    p = 0.8 \n",
    "    \n",
    "    # extract identifiers and date from input row\n",
    "    pid = x['pid'] # player id \n",
    "    tid = x['tid'] # tourney id\n",
    "    mid = x['mid'] # match id\n",
    "    date = x['date']\n",
    "    \n",
    "    # extract all historical records for this player, from before this match\n",
    "    record = all_records.loc[(all_records.id==pid) & (all_records.date <= date) &\\\n",
    "                         ((all_records.tid != tid) | (all_records.mid != mid)),:]\n",
    "    \n",
    "    # express time in years\n",
    "    t = (date - records.date).apply(lambda x: x.days/365)\n",
    "    \n",
    "    # apply discount factor\n",
    "    td = p**t\n",
    "    td.loc[td>p]=p\n",
    "    records['weight'] = td\n",
    "    \n",
    "    # return a dataframe\n",
    "    return records[['id','tid','mid','key','time_weight']]"
   ]
  },
  {
   "cell_type": "markdown",
   "metadata": {},
   "source": [
    "# II. Feature calculation\n",
    "\n",
    "Each feature generally requires some calculation.  We'll store the results in a data frame called `features`, of the same size as `data`.\n",
    "\n",
    "We'll randomly assign one player to be \"player 1\", and the other to be \"player 0\".  The outcome of a match is 1 if player 1 wins, and 0 if player 0 wins."
   ]
  },
  {
   "cell_type": "code",
   "execution_count": 960,
   "metadata": {},
   "outputs": [],
   "source": [
    "# include match identifiers, and randomly assign one player to be \"player 1\"\n",
    "features = data[['tourney_id', 'match_num','tourney_date']].copy()\n",
    "features.insert(0,'outcome',np.random.choice([0,1],size=len(features)))"
   ]
  },
  {
   "cell_type": "markdown",
   "metadata": {},
   "source": [
    "**RANK**"
   ]
  },
  {
   "cell_type": "code",
   "execution_count": 966,
   "metadata": {},
   "outputs": [],
   "source": [
    "features.insert(0,'RANK',(data.loser_rank-data.winner_rank)*(-1)**features.outcome)\n",
    "features.loc[:,'RANK']=features['RANK']/features['RANK'].std()"
   ]
  },
  {
   "cell_type": "markdown",
   "metadata": {},
   "source": [
    "**RANKPTS**"
   ]
  },
  {
   "cell_type": "code",
   "execution_count": 967,
   "metadata": {
    "collapsed": true
   },
   "outputs": [],
   "source": [
    "features.insert(0,'RANKPTS',(data.loser_rank_points-data.winner_rank_points)*(-1)**features.outcome)\n",
    "features.loc[:,'RANKPTS']=features['RANKPTS']/features['RANKPTS'].std()"
   ]
  },
  {
   "cell_type": "markdown",
   "metadata": {},
   "source": [
    "**HT**"
   ]
  },
  {
   "cell_type": "code",
   "execution_count": 968,
   "metadata": {
    "collapsed": true
   },
   "outputs": [],
   "source": [
    "features.insert(0,'HT',(data.loser_ht-data.winner_ht)*(-1)**features.outcome)\n",
    "features.loc[:,'HT']=features['HT']/features['HT'].std()"
   ]
  },
  {
   "cell_type": "markdown",
   "metadata": {},
   "source": [
    "**HND**"
   ]
  },
  {
   "cell_type": "code",
   "execution_count": 969,
   "metadata": {},
   "outputs": [],
   "source": [
    "features.insert(0,'HND',((data.loser_hand=='R')*1\\\n",
    "                        -(data.winner_hand=='R')*1)*(-1)**features.outcome)\n",
    "features.loc[np.where((data['winner_hand']=='U')|(data['loser_hand']=='U'))[0],'HND']=np.nan"
   ]
  },
  {
   "cell_type": "code",
   "execution_count": 554,
   "metadata": {},
   "outputs": [
    {
     "name": "stdout",
     "output_type": "stream",
     "text": [
      "  winner_hand loser_hand\n",
      "0           R          R\n",
      "1           R          R\n",
      "2           R          R\n",
      "3           R          R\n",
      "4           R          R\n",
      "5           L          R\n",
      "   HND  outcome\n",
      "0    0        0\n",
      "1    0        0\n",
      "2    0        0\n",
      "3    0        1\n",
      "4    0        1\n",
      "5   -1        1\n"
     ]
    }
   ],
   "source": [
    "print(data.loc[0:5,['winner_hand','loser_hand']])\n",
    "print(features.loc[0:5,['HND','outcome']])"
   ]
  },
  {
   "cell_type": "markdown",
   "metadata": {},
   "source": [
    "It will be help with indexing if we isolate all relevant features for players 1 and 0 into their own dataframes. This is what the following code does."
   ]
  },
  {
   "cell_type": "code",
   "execution_count": 408,
   "metadata": {
    "collapsed": true
   },
   "outputs": [],
   "source": [
    "# initialize dataframes to hold features for players 1 and 0\n",
    "P1 = pd.DataFrame(columns=['DATE','TID','MID','PID','HAND','HT',\\\n",
    "                           'AGE','RANKPTS','RANK','ACE','DF','SVPT',\\\n",
    "                           'FSTIN','FSTWON','SNDWON','BPSAVED','BPFACED'])\n",
    "P0 = pd.DataFrame(columns=['DATE','TID','MID','PID','HAND','HT',\n",
    "                           'AGE','RANKPTS','RANK','ACE','DF','SVPT',\\\n",
    "                           'FSTIN','FSTWON','SNDWON','BPSAVED','BPFACED'])\n",
    "\n",
    "# define a function that returns winner info if RES=1, otherwise loser info\n",
    "def assign_player_1(x):\n",
    "  \n",
    "    winner = pd.Series({'DATE':x['tourney_date'],\\\n",
    "                        'TID':x['tourney_id'],\\\n",
    "                         'MID':x['match_num'],\\\n",
    "                         'PID':x['winner_id'],\\\n",
    "                         'HAND':x['winner_hand'],\\\n",
    "                         'HT':x['winner_ht'],\\\n",
    "                         'AGE':x['winner_age'],\\\n",
    "                         'RANKPTS':x['winner_rank_points'],\\\n",
    "                         'RANK':x['winner_rank'],\\\n",
    "                         'ACE':x['w_ace'],\\\n",
    "                         'DF':x['w_df'],\\\n",
    "                         'SVPT':x['w_svpt'],\\\n",
    "                         'FSTIN':x['w_1stIn'],\\\n",
    "                         'FSTWON':x['w_1stWon'],\\\n",
    "                         'SNDWON':x['w_2ndWon'],\\\n",
    "                         'BPSAVED':x['w_bpSaved'],\\\n",
    "                         'BPFACED':x['w_bpFaced']})\n",
    "    \n",
    "    loser = pd.Series({'DATE':x['tourney_date'],\\\n",
    "                       'TID':x['tourney_id'],\\\n",
    "                         'MID':x['match_num'],\\\n",
    "                         'PID':x['loser_id'],\\\n",
    "                         'HAND':x['loser_hand'],\\\n",
    "                         'HT':x['loser_ht'],\\\n",
    "                         'AGE':x['loser_age'],\\\n",
    "                         'RANKPTS':x['loser_rank_points'],\\\n",
    "                         'RANK':x['loser_rank'],\\\n",
    "                         'ACE':x['l_ace'],\\\n",
    "                         'DF':x['l_df'],\\\n",
    "                         'SVPT':x['l_svpt'],\\\n",
    "                         'FSTIN':x['l_1stIn'],\\\n",
    "                         'FSTWON':x['l_1stWon'],\\\n",
    "                         'SNDWON':x['l_2ndWon'],\\\n",
    "                         'BPSAVED':x['l_bpSaved'],\\\n",
    "                         'BPFACED':x['l_bpFaced']})\n",
    "    \n",
    "    if x['RES']==1:\n",
    "        return winner\n",
    "    else:\n",
    "        return loser\n",
    "                         \n",
    "# mutatis mutandis for player 0.  (Note:  no need to rewrite this function if I can figure \n",
    "# out how to assign two outputs within an \"apply\" call.)      \n",
    "def assign_player_0(x):\n",
    "  \n",
    "    winner = pd.Series({'DATE':x['tourney_date'],\\\n",
    "                        'TID':x['tourney_id'],\\\n",
    "                         'MID':x['match_num'],\\\n",
    "                         'PID':x['winner_id'],\\\n",
    "                         'HAND':x['winner_hand'],\\\n",
    "                         'HT':x['winner_ht'],\\\n",
    "                         'AGE':x['winner_age'],\\\n",
    "                         'RANKPTS':x['winner_rank_points'],\\\n",
    "                         'RANK':x['winner_rank'],\\\n",
    "                         'ACE':x['w_ace'],\\\n",
    "                         'DF':x['w_df'],\\\n",
    "                         'SVPT':x['w_svpt'],\\\n",
    "                         'FSTIN':x['w_1stIn'],\\\n",
    "                         'FSTWON':x['w_1stWon'],\\\n",
    "                         'SNDWON':x['w_2ndWon'],\\\n",
    "                         'BPSAVED':x['w_bpSaved'],\\\n",
    "                         'BPFACED':x['w_bpFaced']})\n",
    "    \n",
    "    loser = pd.Series({'DATE':x['tourney_date'],\\\n",
    "                       'TID':x['tourney_id'],\\\n",
    "                         'MID':x['match_num'],\\\n",
    "                         'PID':x['loser_id'],\\\n",
    "                         'HAND':x['loser_hand'],\\\n",
    "                         'HT':x['loser_ht'],\\\n",
    "                         'AGE':x['loser_age'],\\\n",
    "                         'RANKPTS':x['loser_rank_points'],\\\n",
    "                         'RANK':x['loser_rank'],\\\n",
    "                         'ACE':x['l_ace'],\\\n",
    "                         'DF':x['l_df'],\\\n",
    "                         'SVPT':x['l_svpt'],\\\n",
    "                         'FSTIN':x['l_1stIn'],\\\n",
    "                         'FSTWON':x['l_1stWon'],\\\n",
    "                         'SNDWON':x['l_2ndWon'],\\\n",
    "                         'BPSAVED':x['l_bpSaved'],\\\n",
    "                         'BPFACED':x['l_bpFaced']})\n",
    "    \n",
    "    if x['RES']==1:\n",
    "        return loser\n",
    "    else:\n",
    "        return winner                  "
   ]
  },
  {
   "cell_type": "code",
   "execution_count": 409,
   "metadata": {},
   "outputs": [],
   "source": [
    "matches_hist.insert(len(matches_hist.columns),'RES',features['RES'].values)\n",
    "P1=matches_hist.apply(assign_player_1,axis=1)\n",
    "P0=matches_hist.apply(assign_player_0,axis=1)"
   ]
  },
  {
   "cell_type": "markdown",
   "metadata": {},
   "source": [
    "**Features I and II:  differences of ranks and rank points (RPTS)**\n",
    "\n",
    "We'll scale the rank point differences by the standard deviation."
   ]
  },
  {
   "cell_type": "code",
   "execution_count": null,
   "metadata": {},
   "outputs": [],
   "source": [
    "features.insert(len(features.columns), 'RANKPTS', P1['RANKPTS']-P0['RANKPTS'])\n",
    "features.insert(len(features.columns), 'RANK', P1['RANK']-P0['RANK'])\n",
    "\n",
    "features['RANKPTS'] = features['RANKPTS']/features['RANKPTS'].std()\n",
    "features['RANK'] = features['RANK']/features['RANK'].std()"
   ]
  },
  {
   "cell_type": "code",
   "execution_count": 450,
   "metadata": {},
   "outputs": [
    {
     "data": {
      "text/plain": [
       "<matplotlib.text.Text at 0x13fa47c18>"
      ]
     },
     "execution_count": 450,
     "metadata": {},
     "output_type": "execute_result"
    },
    {
     "data": {
      "image/png": "[encoded data removed]",
      "text/plain": [
       "<matplotlib.figure.Figure at 0x13a807390>"
      ]
     },
     "metadata": {},
     "output_type": "display_data"
    }
   ],
   "source": [
    "# define figure and axes\n",
    "fig = plt.figure(figsize=(15,5))\n",
    "ax0 = fig.add_subplot(121)\n",
    "ax1 = fig.add_subplot(122)\n",
    "\n",
    "ax0.hist(features.RANK.dropna())\n",
    "ax0.set_title('Diff. in rank')\n",
    "ax1.hist(features.RANKPTS.dropna())\n",
    "ax1.set_title('Diff in rank pts')"
   ]
  },
  {
   "cell_type": "markdown",
   "metadata": {},
   "source": [
    "**Feature III:  differences of first serve winning percentage**"
   ]
  },
  {
   "cell_type": "code",
   "execution_count": 426,
   "metadata": {},
   "outputs": [],
   "source": [
    "P1.insert(len(P1.columns),'FSWPCT',P1['FSTWON']/P1['SVPT'])\n",
    "P0.insert(len(P0.columns),'FSWPCT',P0['FSTWON']/P0['SVPT'])\n",
    "\n",
    "P1_grouped = P1.groupby('PID')\n",
    "P0_grouped = P0.groupby('PID')\n",
    "\n",
    "def extract_features(group):\n",
    "    mean_fswpct = group['FSWPCT'].mean()\n",
    "    size = len(group)\n",
    "    return pd.Series({'mean_fswpct':mean_fswpct,'size':size})\n",
    "\n",
    "t1=P1_grouped.apply(extract_features).reset_index()\n",
    "t0=P0_grouped.apply(extract_features).reset_index()\n",
    "\n",
    "t2 = pd.merge(t1,t0,how='outer',on='PID')\n",
    "t2 = t2.fillna(0)\n",
    "t2['FSWPCT_HIST'] = (t2['mean_fswpct_x']*t2['size_x'] +\\\n",
    "                t2['mean_fswpct_y']*t2['size_y'])/(t2['size_x']+t2['size_y'])"
   ]
  },
  {
   "cell_type": "code",
   "execution_count": 428,
   "metadata": {},
   "outputs": [],
   "source": [
    "P1=pd.merge(P1,t2[['PID','FSWPCT_HIST']],how='inner',on='PID')    \n",
    "P0=pd.merge(P0,t2[['PID','FSWPCT_HIST']],how='inner',on='PID') "
   ]
  },
  {
   "cell_type": "code",
   "execution_count": null,
   "metadata": {},
   "outputs": [],
   "source": [
    "features['FSWPCT']=P1['FSWPCT']-P0['FSWPCT']"
   ]
  },
  {
   "cell_type": "code",
   "execution_count": 451,
   "metadata": {},
   "outputs": [
    {
     "data": {
      "text/plain": [
       "<matplotlib.text.Text at 0x13f2a9d68>"
      ]
     },
     "execution_count": 451,
     "metadata": {},
     "output_type": "execute_result"
    },
    {
     "data": {
      "image/png": "[encoded data removed]",
      "text/plain": [
       "<matplotlib.figure.Figure at 0x140bd5b70>"
      ]
     },
     "metadata": {},
     "output_type": "display_data"
    }
   ],
   "source": [
    "plt.hist(features.FSWPCT.dropna())\n",
    "plt.title('Diff. in first serve winning percentages')"
   ]
  },
  {
   "cell_type": "markdown",
   "metadata": {},
   "source": [
    "**Feature 4:  Height differences**"
   ]
  },
  {
   "cell_type": "code",
   "execution_count": null,
   "metadata": {},
   "outputs": [],
   "source": [
    "features['HT'] = P1['HT']-P2['HT']\n",
    "features['HT'] = features['HT']/features['HT'].std()"
   ]
  },
  {
   "cell_type": "code",
   "execution_count": 452,
   "metadata": {},
   "outputs": [
    {
     "data": {
      "text/plain": [
       "<matplotlib.text.Text at 0x13fdb0a58>"
      ]
     },
     "execution_count": 452,
     "metadata": {},
     "output_type": "execute_result"
    },
    {
     "data": {
      "image/png": "[encoded data removed]",
      "text/plain": [
       "<matplotlib.figure.Figure at 0x13f2b3128>"
      ]
     },
     "metadata": {},
     "output_type": "display_data"
    }
   ],
   "source": [
    "plt.hist(features.HT.dropna())\n",
    "plt.title('Difference in height')"
   ]
  },
  {
   "cell_type": "markdown",
   "metadata": {},
   "source": [
    "**Feature 5:  Age differences**"
   ]
  },
  {
   "cell_type": "code",
   "execution_count": null,
   "metadata": {},
   "outputs": [],
   "source": [
    "features['AGE'] = P1['AGE']-P2['AGE']\n",
    "features['AGE'] = features['AGE']/features['AGE'].std()"
   ]
  },
  {
   "cell_type": "code",
   "execution_count": 456,
   "metadata": {},
   "outputs": [
    {
     "data": {
      "text/plain": [
       "<matplotlib.text.Text at 0x12177f438>"
      ]
     },
     "execution_count": 456,
     "metadata": {},
     "output_type": "execute_result"
    },
    {
     "data": {
      "image/png": "[encoded data removed]",
      "text/plain": [
       "<matplotlib.figure.Figure at 0x1389be5c0>"
      ]
     },
     "metadata": {},
     "output_type": "display_data"
    }
   ],
   "source": [
    "plt.hist(features.AGE.dropna())\n",
    "plt.title('Difference in age')"
   ]
  },
  {
   "cell_type": "markdown",
   "metadata": {},
   "source": [
    "### Future Work\n",
    "\n",
    "** Proposed features:**\n",
    "\n",
    "*  percent of winning service returns (derivable from existing data)\n",
    "*  percent of winning tie-breakers \n",
    "*  percent of `upsets` (losing when higher ranked, winning when lower ranked)\n",
    "*  percent of double faults per game\n",
    "*  percent aces per game\n",
    "*  percent head-to-head victories (against the same player)\n",
    "*  advantage when serving\n",
    "*  time since injury\n",
    "\n",
    "** Parameters to solve for:**\n",
    "\n",
    "* Time discount factor over historical averages\n",
    "* Match weighting factor.  Issues include:   \n",
    "    -heads-to-heads  \n",
    "    -common opponents  \n",
    "    -court surface \n",
    "    \n",
    "** Take-aways:**\n",
    "\n",
    "1.  **rank is not the whole picture**   \n",
    "    -Ex:  David Nalbandian has gone 8-11 against Federer, in spite of being lower ranked\n",
    "2.  **the data is messy**  \n",
    "    -incomplete matches  \n",
    "    -missing data  \n",
    "    -incorrect data\n",
    "3.  **informative features need to be constructed**  \n",
    "    -infering injury  \n",
    "    -head-to-head history\n",
    "    \n",
    "   \n"
   ]
  },
  {
   "cell_type": "markdown",
   "metadata": {},
   "source": []
  },
  {
   "cell_type": "code",
   "execution_count": 444,
   "metadata": {
    "collapsed": true
   },
   "outputs": [],
   "source": [
    "P1=pd.merge(P1,t2[['PID','SSWPCT_HIST']],how='inner',on='PID')    \n",
    "P0=pd.merge(P0,t2[['PID','SSWPCT_HIST']],how='inner',on='PID') "
   ]
  }
 ],
 "metadata": {
  "kernelspec": {
   "display_name": "Python 3",
   "language": "python",
   "name": "python3"
  },
  "language_info": {
   "codemirror_mode": {
    "name": "ipython",
    "version": 3
   },
   "file_extension": ".py",
   "mimetype": "text/x-python",
   "name": "python",
   "nbconvert_exporter": "python",
   "pygments_lexer": "ipython3",
   "version": "3.6.1"
  }
 },
 "nbformat": 4,
 "nbformat_minor": 2
}
