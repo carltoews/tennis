{
 "cells": [
  {
   "cell_type": "markdown",
   "metadata": {},
   "source": [
    "## <p style=\"text-align: center\">  Extracting features</p>\n",
    "\n",
    "**Author:**  Carl Toews    \n",
    "**File:  ** extract_features.ipynb  \n",
    "\n",
    "### Description:\n",
    "\n",
    "In order to implement machine learning algorithms, we need to develop a set of informative features.  Following *Machine learning for predicting professional tennis matches* [Sipko, 2015], for each match we assign one player to be \"Player 0\" and the other to be \"Player 1\", and call the outcome a 0 if Player 0 won and a 1 otherwise.  For each match, we produce a set of features, each a measure of *difference* between some characteristic of the two players.  The characteristics we consider include the following (many  of these are from Sipko):\n",
    "\n",
    "* rank:  rank  \n",
    "* rankpts:  rank points  \n",
    "* height:  height  \n",
    "* hand: handedness binary (0 for right, 1 for left)\n",
    "* fsp:  \"first serve is valid\" (percentage)\n",
    "* wfs:  winning first serve (percentage)  \n",
    "* wss: winning second serve (percentage )\n",
    "* wsp:  winning on *any* serve (percentage)\n",
    "* wrp:  winning on returns (percentage) \n",
    "* tpw:  total points won (percentage)\n",
    "* acpg: average number of aces (per game)  \n",
    "* dfpg:  average number of double faults (per game) \n",
    "* bps: break points saved (percentage)\n",
    "* tmw: total matches won (percentage)\n",
    "* retired: binary (`True` if 1st match back since retirement)\n",
    "* fatigue: fatigue score (based on number of matches in past 3 days)\n",
    "* complete: player completeness score (Sipko)\n",
    "* serveadv: score to measure the relative advantage when serving  \n",
    "* direct:  head to head balance with a particular player  \n",
    "\n",
    "Note that rank, rankpts, height, and hand can be read from player data directly with no calculation.  On the other hand, fsp, wfs, wss, wsp, wrp, tpw, acpg, dfpg, bps can be calculated for any given match, but for purposes of predicting a future match, need to be averaged over the historical record.  Finally, tmw, retired, fatigue, complete, serveadv, and direct are  not calculated \"match-by-match\", but rather derived from the historical record. \n",
    "\n",
    "In order to derive these features, we'll first need to clean the data a bit.  Specifically, we need to deal with missing or null values, as well as rectify incorrect values.  Examples of issues include:  \n",
    "*  The 'score' column contains inconsistent strings for indicating irregular outcomes\n",
    "*  Many matches don't include statistics such as ace rates, double faults, etc.\n",
    " "
   ]
  },
  {
   "cell_type": "markdown",
   "metadata": {},
   "source": [
    "# I.  Data extraction"
   ]
  },
  {
   "cell_type": "markdown",
   "metadata": {},
   "source": [
    "Import statements"
   ]
  },
  {
   "cell_type": "code",
   "execution_count": 474,
   "metadata": {
    "collapsed": true
   },
   "outputs": [],
   "source": [
    "import sqlalchemy # pandas-mysql interface library\n",
    "import sqlalchemy.exc # exception handling\n",
    "from   sqlalchemy import create_engine  # needed to define db interface\n",
    "import sys # for defining behavior under errors\n",
    "import numpy as np # numerical libraries\n",
    "import scipy as sp\n",
    "import pandas as pd # for data analysis\n",
    "import pandas.io.sql as sql # for interfacing with MySQL database\n",
    "import matplotlib as mpl # a big library with plotting functionality\n",
    "import matplotlib.pyplot as plt # a subset of matplotlib with most of the useful tools\n",
    "import IPython as IP\n",
    "%matplotlib inline \n",
    "import pdb\n",
    "#%qtconsole"
   ]
  },
  {
   "cell_type": "markdown",
   "metadata": {},
   "source": [
    "Player and odds data from 2010-2016 has beeen matched and stored.  Retrieve, merge, and rename."
   ]
  },
  {
   "cell_type": "code",
   "execution_count": 973,
   "metadata": {},
   "outputs": [],
   "source": [
    "pickle_dir = '../pickle_files/'\n",
    "odds_file = 'odds.pkl'\n",
    "matches_file = 'matches.pkl'\n",
    "\n",
    "odds= pd.read_pickle(pickle_dir + odds_file)\n",
    "matches= pd.read_pickle(pickle_dir + matches_file)\n",
    "data = pd.merge(matches,odds[['PSW','PSL','key']],how='inner',on='key')"
   ]
  },
  {
   "cell_type": "markdown",
   "metadata": {},
   "source": [
    "Get additional training data.  We'll include data from 2005, excluding Davis Cup matches, and focusing exclusively on players who played in our 2010-2016 set."
   ]
  },
  {
   "cell_type": "code",
   "execution_count": 1710,
   "metadata": {
    "collapsed": true
   },
   "outputs": [],
   "source": [
    "# name of database\n",
    "db_name = \"tennis\"\n",
    "# name of db user\n",
    "username = \"testuser\"\n",
    "# db password for db user\n",
    "password = \"test623\"\n",
    "# location of atp data files\n",
    "atpfile_directory = \"../data/tennis_atp-master/\"\n",
    "\n",
    "# focus on most recent data; exclude Davis Cup stuff\n",
    "startdate = '20050101'\n",
    "enddate = '20161231'\n",
    "\n",
    "engine = create_engine('mysql+mysqldb://' + username + ':' + password + '@localhost/' + db_name)\n",
    "    \n",
    "# get unique winners and losers in our set\n",
    "players = tuple(pd.concat((data.winner_id,data.loser_id)).unique())\n",
    "\n",
    "# load all data pertinant for any player\n",
    "with engine.begin() as connection:\n",
    "    matches_hist = pd.read_sql_query(\"\"\"SELECT * FROM matches \\\n",
    "    WHERE tourney_date >= '\"\"\" + startdate + \"\"\"' \\\n",
    "    AND tourney_date <= '\"\"\" + enddate + \"\"\"' \\\n",
    "    AND (winner_id IN %(p)s \\\n",
    "    OR loser_id IN %(p)s) \\\n",
    "    AND tourney_name NOT LIKE 'Davis%%';\"\"\",connection,params={'p':players})  "
   ]
  },
  {
   "cell_type": "markdown",
   "metadata": {},
   "source": [
    "# II. Calculate match statistics"
   ]
  },
  {
   "cell_type": "markdown",
   "metadata": {},
   "source": [
    "Many of the features we will develop will involve quantities derived from previous matches.  Examples include weighted historical averages of winning first serves, double faults, etc.  This section calculates some important quantities for each match."
   ]
  },
  {
   "cell_type": "markdown",
   "metadata": {},
   "source": [
    "*Insert index on `matches_hist`*"
   ]
  },
  {
   "cell_type": "code",
   "execution_count": 1711,
   "metadata": {},
   "outputs": [],
   "source": [
    "matches_hist['key'] = np.arange(len(matches_hist))"
   ]
  },
  {
   "cell_type": "markdown",
   "metadata": {},
   "source": [
    "*Extract text string indicating unusual match outcomes*"
   ]
  },
  {
   "cell_type": "code",
   "execution_count": 1712,
   "metadata": {},
   "outputs": [
    {
     "data": {
      "text/plain": [
       "array([nan, 'W/O', 'RET', 'DEF', 'Jun'], dtype=object)"
      ]
     },
     "execution_count": 1712,
     "metadata": {},
     "output_type": "execute_result"
    }
   ],
   "source": [
    "# scores are just numbers, unless something weird happened.  Extract comments about irregular outcomes.  \n",
    "t=matches_hist.score.str.extractall('(?P<comment>[a-zA-Z]+.+)').xs(0,level='match')\n",
    "matches_hist = pd.merge(matches_hist,t,how='outer',left_index=True, right_index=True)\n",
    "matches_hist.comment.unique()"
   ]
  },
  {
   "cell_type": "markdown",
   "metadata": {},
   "source": [
    "*Calculate games scores for each set, store in a separate dataframe*"
   ]
  },
  {
   "cell_type": "code",
   "execution_count": 1713,
   "metadata": {},
   "outputs": [],
   "source": [
    "# discard comments and trailing white space\n",
    "scores = matches_hist.score.str.replace('(?P<comment>[a-zA-Z]+.+)','')\n",
    "scores = scores.str.replace('(?P<comment>\\([0-9]+\\))','').str.strip()\n",
    "\n",
    "# split the game scores into columns of a dataframe\n",
    "scores = scores.str.split('-|\\s',expand=True)\n",
    "scores.columns=['W1','L1','W2','L2','W3','L3','W4','L4','W5','L5']\n",
    "scores = scores.apply(lambda x: pd.to_numeric(x))"
   ]
  },
  {
   "cell_type": "markdown",
   "metadata": {},
   "source": [
    "*Store the number of games played in each match.*"
   ]
  },
  {
   "cell_type": "code",
   "execution_count": 1714,
   "metadata": {
    "collapsed": true
   },
   "outputs": [],
   "source": [
    "ngames = np.sum(scores,axis=1)\n",
    "matches_hist.insert(0,'ngames',ngames.astype('int'))"
   ]
  },
  {
   "cell_type": "markdown",
   "metadata": {},
   "source": [
    "It seems a few matches were cut short for no recorded reason:"
   ]
  },
  {
   "cell_type": "code",
   "execution_count": 1715,
   "metadata": {},
   "outputs": [
    {
     "name": "stdout",
     "output_type": "stream",
     "text": [
      "matches with weird outcomes:  \n",
      "6018     6-3 1-1\n",
      "7245     6-3 1-0\n",
      "7286        None\n",
      "7466         4-0\n",
      "7937     6-3 1-0\n",
      "19303        4-1\n",
      "Name: score, dtype: object\n"
     ]
    }
   ],
   "source": [
    "# sanity check:  are matches involving few than 12 games identical to those with commments?\n",
    "idx1 = (ngames<12)\n",
    "idx2 = matches_hist.comment.notnull()\n",
    "z=(idx1*1)*(idx2*1-1)\n",
    "zz = np.where(np.abs(z))[0]\n",
    "print(\"matches with weird outcomes:  \")\n",
    "print(matches_hist.loc[zz,'score'])"
   ]
  },
  {
   "cell_type": "markdown",
   "metadata": {},
   "source": [
    "*Calcuate **first serve percentages (fsp)** for both winners and losers.*"
   ]
  },
  {
   "cell_type": "code",
   "execution_count": 1716,
   "metadata": {},
   "outputs": [],
   "source": [
    "matches_hist.insert(0,'w_fsp',matches_hist.w_1stIn/matches_hist.w_svpt)\n",
    "matches_hist.insert(0,'l_fsp',matches_hist.l_1stIn/matches_hist.l_svpt)\n",
    "matches_hist.loc[matches_hist.]"
   ]
  },
  {
   "cell_type": "markdown",
   "metadata": {},
   "source": [
    "*Calculate **winning first serve percentages (wfs)***"
   ]
  },
  {
   "cell_type": "code",
   "execution_count": 1717,
   "metadata": {},
   "outputs": [],
   "source": [
    "matches_hist.insert(0,'w_wfs',matches_hist.w_1stWon/matches_hist.w_svpt)\n",
    "matches_hist.insert(0,'l_wfs',matches_hist.l_1stWon/matches_hist.l_svpt)"
   ]
  },
  {
   "cell_type": "markdown",
   "metadata": {},
   "source": [
    "*Calculate **second serves in (2ndIn)** for both winners and losers*"
   ]
  },
  {
   "cell_type": "code",
   "execution_count": 1718,
   "metadata": {
    "collapsed": true
   },
   "outputs": [],
   "source": [
    "matches_hist.insert(0,'w_2ndIn',matches_hist.w_svpt-matches_hist.w_df-matches_hist.w_1stIn)\n",
    "matches_hist.insert(0,'l_2ndIn',matches_hist.l_svpt-matches_hist.l_df-matches_hist.l_1stIn)"
   ]
  },
  {
   "cell_type": "markdown",
   "metadata": {},
   "source": [
    "*Calculate **second serve (ssp)** percentages *"
   ]
  },
  {
   "cell_type": "code",
   "execution_count": 1719,
   "metadata": {
    "collapsed": true
   },
   "outputs": [],
   "source": [
    "matches_hist.insert(0,'w_ssp',matches_hist.w_2ndIn/(matches_hist.w_2ndIn+matches_hist.w_df))\n",
    "matches_hist.insert(0,'l_ssp',matches_hist.l_2ndIn/(matches_hist.l_2ndIn+matches_hist.l_df))"
   ]
  },
  {
   "cell_type": "markdown",
   "metadata": {},
   "source": [
    "*Calculate **wining second serve percentages (wss)***"
   ]
  },
  {
   "cell_type": "code",
   "execution_count": 1720,
   "metadata": {},
   "outputs": [],
   "source": [
    "matches_hist.insert(0,'w_wss',matches_hist.w_2ndWon/matches_hist.w_2ndIn)\n",
    "matches_hist.insert(0,'l_wss',matches_hist.l_2ndWon/matches_hist.l_2ndIn)"
   ]
  },
  {
   "cell_type": "markdown",
   "metadata": {},
   "source": [
    "*Calculate **overall win on serve percentages (wsp)***"
   ]
  },
  {
   "cell_type": "code",
   "execution_count": 1860,
   "metadata": {},
   "outputs": [],
   "source": [
    "#matches_hist.insert(0,'w_wsp',(matches_hist.w_1stWon + matches_hist.w_2ndWon)/matches_hist.w_svpt)\n",
    "#matches_hist.insert(0,'l_wsp',(matches_hist.l_1stWon+matches_hist.l_2ndWon)/matches_hist.l_svpt)\n",
    "matches_hist['w_wsp']=(matches_hist.w_1stWon + matches_hist.w_2ndWon)/matches_hist.w_svpt\n",
    "matches_hist['l_wsp']=(matches_hist.l_1stWon+matches_hist.l_2ndWon)/matches_hist.l_svpt"
   ]
  },
  {
   "cell_type": "markdown",
   "metadata": {},
   "source": [
    "*Calculate **winning on return percentages (wrp)**.*  \n",
    "\n",
    "[(# of opponent serves) - (# of opponent service victories)]/(# of opponent serves)"
   ]
  },
  {
   "cell_type": "code",
   "execution_count": 1722,
   "metadata": {},
   "outputs": [],
   "source": [
    "matches_hist.insert(0,'w_wrp',(matches_hist.l_svpt - matches_hist.l_1stWon \\\n",
    "                               - matches_hist.l_2ndWon)/(matches_hist.l_svpt))\n",
    "matches_hist.insert(0,'l_wrp',(matches_hist.w_svpt - matches_hist.w_1stWon \\\n",
    "                              - matches_hist.w_2ndWon)/(matches_hist.w_svpt))"
   ]
  },
  {
   "cell_type": "markdown",
   "metadata": {},
   "source": [
    "*Calculate **total points won percentage (tpw)***"
   ]
  },
  {
   "cell_type": "code",
   "execution_count": 1723,
   "metadata": {},
   "outputs": [],
   "source": [
    "matches_hist.insert(0,'w_tpw',(matches_hist.l_svpt\\\n",
    "                          -matches_hist.l_1stWon-matches_hist.l_2ndWon\\\n",
    "                          +matches_hist.w_1stWon +matches_hist.w_2ndWon)/\\\n",
    "                        (matches_hist.l_svpt + matches_hist.w_svpt))\n",
    "matches_hist.insert(0,'l_tpw',(matches_hist.w_svpt\\\n",
    "                        -matches_hist.w_1stWon-matches_hist.w_2ndWon\\\n",
    "                        +matches_hist.l_1stWon +matches_hist.l_2ndWon)/\\\n",
    "                        (matches_hist.l_svpt + matches_hist.w_svpt))"
   ]
  },
  {
   "cell_type": "markdown",
   "metadata": {},
   "source": [
    "*Calculate **double faults per game (dfpg)**, per game*\n",
    "\n",
    "There are a couple of bad entries for SvGms.  We'll first fix those.  (Note:  the fix evenly partions total games between both players.  This could result in a fractional number of service games. My hunch is the total effect on the stats is minimal.)"
   ]
  },
  {
   "cell_type": "code",
   "execution_count": 1828,
   "metadata": {},
   "outputs": [
    {
     "name": "stdout",
     "output_type": "stream",
     "text": [
      "       w_df  l_df  w_SvGms  l_SvGms        score  ngames\n",
      "2956    4.0   2.0      0.0      0.0      6-3 6-3      18\n",
      "9664    2.0  12.0     16.0      0.0  6-3 6-4 7-5      31\n",
      "12770   0.0   0.0      0.0      4.0  6-2 6-2 6-1      23\n",
      "18690   3.0   0.0     12.0      0.0      7-5 7-5      24\n",
      "18695   1.0   0.0      9.0      0.0      6-3 6-3      18\n",
      "       w_df  l_df  w_SvGms  l_SvGms        score  ngames\n",
      "2956    4.0   2.0      9.0      9.0      6-3 6-3      18\n",
      "9664    2.0  12.0     15.5     15.5  6-3 6-4 7-5      31\n",
      "12770   0.0   0.0     11.5     11.5  6-2 6-2 6-1      23\n",
      "18690   3.0   0.0     12.0     12.0      7-5 7-5      24\n",
      "18695   1.0   0.0      9.0      9.0      6-3 6-3      18\n"
     ]
    }
   ],
   "source": [
    "idx = np.where(((matches_hist.w_SvGms == 0)|(matches_hist.l_SvGms==0)) & (matches_hist.ngames >1))\n",
    "print(matches_hist.loc[idx[0],['w_df','l_df','w_SvGms','l_SvGms','score','ngames']])\n",
    "matches_hist.loc[idx[0],'w_SvGms'] = matches_hist.ngames[idx[0]]/2\n",
    "matches_hist.loc[idx[0],'l_SvGms'] = matches_hist.ngames[idx[0]]/2     \n",
    "print(matches_hist.loc[idx[0],['w_df','l_df','w_SvGms','l_SvGms','score','ngames']])\n"
   ]
  },
  {
   "cell_type": "code",
   "execution_count": 1851,
   "metadata": {},
   "outputs": [],
   "source": [
    "matches_hist.insert(0,'w_dfpg',matches_hist.w_df/matches_hist.w_SvGms)\n",
    "matches_hist.insert(0,'l_dfpg',matches_hist.l_df/matches_hist.l_SvGms)\n",
    "#matches_hist['w_dfpg']=matches_hist.w_df/matches_hist.w_SvGms\n",
    "#matches_hist['l_dfpg']=matches_hist.l_df/matches_hist.l_SvGms"
   ]
  },
  {
   "cell_type": "markdown",
   "metadata": {},
   "source": [
    "*Calculate **aces per game (acpg)**, per game*"
   ]
  },
  {
   "cell_type": "code",
   "execution_count": 1855,
   "metadata": {
    "collapsed": true
   },
   "outputs": [],
   "source": [
    "matches_hist.insert(0,'w_acpg',matches_hist.w_ace/matches_hist.w_SvGms)\n",
    "matches_hist.insert(0,'l_acpg',matches_hist.l_ace/matches_hist.l_SvGms)\n",
    "#matches_hist['w_acpg']=matches_hist.w_ace/matches_hist.w_SvGms\n",
    "#matches_hist['l_acpg']=matches_hist.l_ace/matches_hist.l_SvGms"
   ]
  },
  {
   "cell_type": "markdown",
   "metadata": {},
   "source": [
    "*Calculate **break points saved percentage (bpsp)***"
   ]
  },
  {
   "cell_type": "code",
   "execution_count": null,
   "metadata": {},
   "outputs": [],
   "source": [
    "matches_hist.insert(0,'w_bps',matches_hist.w_bpSaved/matches_hist.w_bpFaced)\n",
    "matches_hist.insert(0,'l_bps',matches_hist.l_bpSaved/matches_hist.l_bpFaced)"
   ]
  },
  {
   "cell_type": "markdown",
   "metadata": {},
   "source": [
    "*Flag **games with premature closure, probably due to injury (retired)***"
   ]
  },
  {
   "cell_type": "code",
   "execution_count": 1727,
   "metadata": {},
   "outputs": [],
   "source": [
    "matches_hist.insert(0,'retired',0)\n",
    "matches_hist.loc[(matches_hist.comment=='RET'),'retired']=1"
   ]
  },
  {
   "cell_type": "markdown",
   "metadata": {},
   "source": [
    "*Flag **games won as a walkover (wo)***"
   ]
  },
  {
   "cell_type": "code",
   "execution_count": 1728,
   "metadata": {},
   "outputs": [],
   "source": [
    "matches_hist.insert(0,'walkover',0)\n",
    "matches_hist.loc[(matches_hist.comment=='W/O'),'walkover']=1"
   ]
  },
  {
   "cell_type": "markdown",
   "metadata": {},
   "source": [
    "*Calculate player **completeness (complete)**, defined as*\n",
    "$$\n",
    "wsp \\times wrp\n",
    "$$\n",
    "\n",
    "**Note:** *might be more useful to aggregate first, rather than compute on a per-match basis.*"
   ]
  },
  {
   "cell_type": "code",
   "execution_count": 1738,
   "metadata": {},
   "outputs": [],
   "source": [
    "matches_hist.insert(0,'w_complete',matches_hist.w_wsp*matches_hist.w_wrp)\n",
    "matches_hist.insert(0,'l_complete',matches_hist.l_wsp*matches_hist.l_wrp)"
   ]
  },
  {
   "cell_type": "markdown",
   "metadata": {},
   "source": [
    "*Calculate player **service advantage (serveadv)**, defined as*\n",
    "\n",
    "$$\n",
    "wsp_1 -wrp_2\n",
    "$$\n",
    "\n",
    "**Note:** *as with **complete**, it might be more useful to aggregated first*"
   ]
  },
  {
   "cell_type": "code",
   "execution_count": 1739,
   "metadata": {
    "collapsed": true
   },
   "outputs": [],
   "source": [
    "matches_hist.insert(0,'w_serveadv',matches_hist.w_wsp-matches_hist.l_wrp)\n",
    "matches_hist.insert(0,'l_serveadv',matches_hist.l_wsp-matches_hist.w_wrp)"
   ]
  },
  {
   "cell_type": "markdown",
   "metadata": {},
   "source": [
    "*Sanity check:  investigate calculated quantities*"
   ]
  },
  {
   "cell_type": "code",
   "execution_count": 1861,
   "metadata": {},
   "outputs": [
    {
     "name": "stdout",
     "output_type": "stream",
     "text": [
      "dfpg: max for winner/loser is  1.44/ 2.00, min for winner/loser is  0.00/ 0.00\n",
      "acpg: max for winner/loser is  2.80/ 2.55, min for winner/loser is  0.00/ 0.00\n",
      "tpw: max for winner/loser is  0.79/ 0.56, min for winner/loser is  0.44/ 0.21\n",
      "wrp: max for winner/loser is  0.82/ 0.53, min for winner/loser is  0.15/ 0.00\n",
      "wsp: max for winner/loser is  1.00/ 0.85, min for winner/loser is  0.47/ 0.18\n",
      "wss: max for winner/loser is  1.00/ 1.00, min for winner/loser is  0.00/ 0.00\n",
      "wfs: max for winner/loser is  0.84/ 0.74, min for winner/loser is  0.22/ 0.08\n",
      "fsp: max for winner/loser is  1.00/ 1.00, min for winner/loser is  0.29/ 0.24\n",
      "ssp: max for winner/loser is  1.00/ 1.00, min for winner/loser is  0.25/ 0.36\n",
      "bps: max for winner/loser is  1.00/ 1.00, min for winner/loser is  0.00/ 0.00\n",
      "complete: max for winner/loser is  0.63/ 0.25, min for winner/loser is  0.11/ 0.00\n"
     ]
    }
   ],
   "source": [
    "idx = matches_hist.comment.isnull()\n",
    "labels = ['dfpg', 'acpg', 'tpw', 'wrp', 'wsp', 'wss', 'wfs', 'fsp', 'ssp', 'bps','complete']\n",
    "for label in labels:\n",
    "    printstr = label + \": max for winner/loser is {:5.2f}/{:5.2f}, min for winner/loser is {:5.2f}/{:5.2f}\"\n",
    "    v1 = eval('matches_hist.w_' + label + '[idx].max()')\n",
    "    v2 = eval('matches_hist.l_' + label + '[idx].max()')\n",
    "    v3 = eval('matches_hist.w_' + label + '[idx].min()')\n",
    "    v4 = eval('matches_hist.l_' + label + '[idx].min()')\n",
    "    print(printstr.format(v1,v2,v3,v4))"
   ]
  },
  {
   "cell_type": "markdown",
   "metadata": {},
   "source": [
    "# III.  Calculate features\n",
    "\n",
    "\n",
    "Each feature generally requires some calculation.  We'll use the bigger data set `matches_hist` to drive the calculations, and store the results in a data frame called `features`, of the same size as `data`."
   ]
  },
  {
   "cell_type": "markdown",
   "metadata": {},
   "source": [
    "*Extract winner and loser data separately and concatenate into dataframe `all_records` with uniform column names.*"
   ]
  },
  {
   "cell_type": "code",
   "execution_count": 1862,
   "metadata": {},
   "outputs": [],
   "source": [
    "# extract winner stats\n",
    "w_records = matches_hist[['winner_id',\n",
    "                          'tourney_date',\n",
    "                          'tourney_id',\n",
    "                          'match_num',\n",
    "                          'ngames',\n",
    "                          'key',\n",
    "                          'w_acpg', # avg. no of aces per game\n",
    "                          'w_dfpg', # avg no. of double faults per game\n",
    "                          'w_tpw',  # total points won\n",
    "                          'w_wrp',  # wining return percent\n",
    "                          'w_wsp',  # winning service percent\n",
    "                          'w_wss',  # winning second serve percent\n",
    "                          'w_wfs',  # winning first serve percent\n",
    "                          'w_fsp',  # good first serves percent\n",
    "                          'w_ssp',  # good second serves percent\n",
    "                          'w_bps',  # breakpoints saved percent \n",
    "                          'retired',# 1 if loser retired prematurely\n",
    "                          'walkover', # 1 if loser didn't show up\n",
    "                          'surface', # 'Hard', 'Clay', or 'Grass'\n",
    "                          'winner_age',  # age\n",
    "                          'winner_ht',   # height\n",
    "                          'winner_rank', # rank\n",
    "                          'winner_rank_points' # rank points\n",
    "                         ]]\n",
    "\n",
    "# rename columns\n",
    "newcols = {'winner_id':'pid', \n",
    "           'tourney_date':'date',\n",
    "           'tourney_id':'tid',\n",
    "           'match_num':'mid',\n",
    "           'ngames':'ngames',\n",
    "           'key':'key',\n",
    "           'w_acpg':'acpg',\n",
    "           'w_dfpg':'dfpg',\n",
    "           'w_tpw':'tpw',\n",
    "           'w_wrp':'wrp',\n",
    "           'w_wsp':'wsp',\n",
    "           'w_wss':'wss',\n",
    "           'w_wfs':'wfs',\n",
    "           'w_fsp':'fsp',\n",
    "           'w_ssp':'ssp',\n",
    "           'w_bps':'bps',\n",
    "           'retired':'retired',\n",
    "           'walkover':'walkover',\n",
    "           'surface':'surface',\n",
    "           'winner_age':'age',  \n",
    "           'winner_ht':'ht',   \n",
    "           'winner_rank':'rank', \n",
    "           'winner_rank_points':'rank_points'\n",
    "          }\n",
    "w_records = w_records.rename(columns = newcols)\n",
    "\n",
    "# record that the outcome was a victory for these players\n",
    "w_records['outcome'] = np.ones(len(w_records))\n",
    "\n",
    "# extract loser stats\n",
    "l_records = matches_hist[['loser_id',\n",
    "                          'tourney_date',\n",
    "                          'tourney_id',\n",
    "                          'match_num',\n",
    "                          'ngames',\n",
    "                          'key',\n",
    "                          'l_acpg', # avg. no of aces per game\n",
    "                          'l_dfpg',  # avg no. of double faults per game\n",
    "                          'l_tpw',  # total points won\n",
    "                          'l_wrp',  # wining return percent\n",
    "                          'l_wsp',  # winning service percent\n",
    "                          'l_wss',  # winning second serve percent\n",
    "                          'l_wfs',  # winning first serve percent\n",
    "                          'l_fsp',  # percent of successful first serves\n",
    "                          'l_ssp',  # percent of successful second serves\n",
    "                          'l_bps',  # percent of breakpoints saved  \n",
    "                          'retired',# 1 if loser retired prematurely\n",
    "                          'walkover',# 1 if loser didn't show up\n",
    "                          'surface', # 'Hard', 'Clay', or 'Grass'\n",
    "                          'loser_age',  # age\n",
    "                          'loser_ht',   # height\n",
    "                          'loser_rank', # rank\n",
    "                          'loser_rank_points' # rank points\n",
    "                         ]]\n",
    "\n",
    "# rename columns\n",
    "newcols = {'loser_id':'pid', \n",
    "           'tourney_date':'date',\n",
    "           'tourney_id':'tid',\n",
    "           'match_num':'mid',\n",
    "           'ngames':'ngames',\n",
    "           'key':'key',\n",
    "           'l_acpg':'acpg',\n",
    "           'l_dfpg':'dfpg',\n",
    "           'l_tpw':'tpw',\n",
    "           'l_wrp':'wrp',\n",
    "           'l_wsp':'wsp',\n",
    "           'l_wss':'wss',\n",
    "           'l_wfs':'wfs',\n",
    "           'l_fsp':'fsp',\n",
    "           'l_ssp':'ssp',\n",
    "           'l_bps':'bps', \n",
    "           'retired':'retired',\n",
    "           'walkover':'walkover',\n",
    "           'surface':'surface',\n",
    "           'loser_age':'age',  \n",
    "           'loser_ht':'ht',   \n",
    "           'loser_rank':'rank', \n",
    "           'loser_rank_points':'rank_points'\n",
    "          }\n",
    "l_records = l_records.rename(columns = newcols)\n",
    "\n",
    "# record outcome as a loss\n",
    "l_records['outcome'] = np.zeros(len(w_records))\n",
    "\n",
    "# fuse all the data into one dataframe\n",
    "all_records = pd.concat([w_records,l_records]).reset_index().sort_values(['key']).replace(np.inf,np.nan)"
   ]
  },
  {
   "cell_type": "markdown",
   "metadata": {},
   "source": [
    "*Calculate surface weighting matrix.  Note that the resulting values are quite different from Sipko's.*"
   ]
  },
  {
   "cell_type": "code",
   "execution_count": 1863,
   "metadata": {},
   "outputs": [
    {
     "data": {
      "text/html": [
       "<div>\n",
       "<style>\n",
       "    .dataframe thead tr:only-child th {\n",
       "        text-align: right;\n",
       "    }\n",
       "\n",
       "    .dataframe thead th {\n",
       "        text-align: left;\n",
       "    }\n",
       "\n",
       "    .dataframe tbody tr th {\n",
       "        vertical-align: top;\n",
       "    }\n",
       "</style>\n",
       "<table border=\"1\" class=\"dataframe\">\n",
       "  <thead>\n",
       "    <tr style=\"text-align: right;\">\n",
       "      <th>surface</th>\n",
       "      <th>Carpet</th>\n",
       "      <th>Clay</th>\n",
       "      <th>Grass</th>\n",
       "      <th>Hard</th>\n",
       "    </tr>\n",
       "    <tr>\n",
       "      <th>surface</th>\n",
       "      <th></th>\n",
       "      <th></th>\n",
       "      <th></th>\n",
       "      <th></th>\n",
       "    </tr>\n",
       "  </thead>\n",
       "  <tbody>\n",
       "    <tr>\n",
       "      <th>Carpet</th>\n",
       "      <td>1.000000</td>\n",
       "      <td>0.342744</td>\n",
       "      <td>0.295605</td>\n",
       "      <td>0.506449</td>\n",
       "    </tr>\n",
       "    <tr>\n",
       "      <th>Clay</th>\n",
       "      <td>0.342744</td>\n",
       "      <td>1.000000</td>\n",
       "      <td>0.363446</td>\n",
       "      <td>0.466821</td>\n",
       "    </tr>\n",
       "    <tr>\n",
       "      <th>Grass</th>\n",
       "      <td>0.295605</td>\n",
       "      <td>0.363446</td>\n",
       "      <td>1.000000</td>\n",
       "      <td>0.548772</td>\n",
       "    </tr>\n",
       "    <tr>\n",
       "      <th>Hard</th>\n",
       "      <td>0.506449</td>\n",
       "      <td>0.466821</td>\n",
       "      <td>0.548772</td>\n",
       "      <td>1.000000</td>\n",
       "    </tr>\n",
       "  </tbody>\n",
       "</table>\n",
       "</div>"
      ],
      "text/plain": [
       "surface    Carpet      Clay     Grass      Hard\n",
       "surface                                        \n",
       "Carpet   1.000000  0.342744  0.295605  0.506449\n",
       "Clay     0.342744  1.000000  0.363446  0.466821\n",
       "Grass    0.295605  0.363446  1.000000  0.548772\n",
       "Hard     0.506449  0.466821  0.548772  1.000000"
      ]
     },
     "execution_count": 1863,
     "metadata": {},
     "output_type": "execute_result"
    }
   ],
   "source": [
    "grouped = all_records.groupby(['pid','surface'])\n",
    "t=grouped['outcome'].mean()\n",
    "surf_wt = t.unstack(level=-1).corr()\n",
    "surf_wt"
   ]
  },
  {
   "cell_type": "markdown",
   "metadata": {},
   "source": [
    "*Function to calculate static features.  (Specifically, calculate normalized **rank, rankpts, age, height, hand** features for every match in the dataset.  Operates on the data as a whole, rather than by line.)*"
   ]
  },
  {
   "cell_type": "code",
   "execution_count": 1914,
   "metadata": {
    "collapsed": true
   },
   "outputs": [],
   "source": [
    "def  get_static_features(data):\n",
    "    \"\"\"\n",
    "    Description: returns differences of those features that don't depend on match histories. \n",
    "    (Rank, Rankpoints, Height, Hand)\n",
    "    \n",
    "    Input:  dataframe with all the match data for which features are to be calculated\n",
    "    Output:  another dataframe of the same length but only four columns, each with one feature\n",
    "    \"\"\"\n",
    "    \n",
    "    # boolean, 1 means (winner,loser) are (player1,player2), 0 means the reverse\n",
    "    outcome = data['outcome'] \n",
    "    \n",
    "    # features dataframe should include merge identifiers\n",
    "    features = data[['outcome','key']].copy()\n",
    "    \n",
    "    # rank (normalize)\n",
    "    rank=(data.loser_rank-data.winner_rank)*(-1)**outcome\n",
    "    features.insert(0,'rank',rank/rank.std())\n",
    "\n",
    "    # rank points (normalize)\n",
    "    rankpts = (data.loser_rank_points-data.winner_rank_points)*(-1)**outcome\n",
    "    features.insert(0,'rankpts',rankpts/rankpts.std())\n",
    "\n",
    "    # height (normalize)\n",
    "    height = (data.loser_ht-data.winner_ht)*(-1)**outcome\n",
    "    features.insert(0,'height',height/height.std())   \n",
    "    \n",
    "    # age (normalize)\n",
    "    height = (data.loser_age-data.winner_age)*(-1)**outcome\n",
    "    features.insert(0,'age',height/height.std())  \n",
    "    \n",
    "    # hand (1 for right, 0 for left)\n",
    "    hand = ((data.loser_hand=='R')*1-(data.winner_hand=='R')*1)*(-1)**outcome\n",
    "    hand.iloc[np.where((data['winner_hand']=='U')|\\\n",
    "                      (data['loser_hand']=='U'))[0]]=np.nan\n",
    "    features.insert(0,'hand',hand)\n",
    "    \n",
    "    return features\n",
    "    "
   ]
  },
  {
   "cell_type": "markdown",
   "metadata": {},
   "source": [
    "*Function to get dynamic features (i.e. all features that require some time averaging.)*"
   ]
  },
  {
   "cell_type": "code",
   "execution_count": 1894,
   "metadata": {},
   "outputs": [],
   "source": [
    "def get_dynamic_features(x):\n",
    "    \"\"\"\n",
    "    Input:  a row of the dataframe.  Needs to have the following fields:\n",
    "        pid (player id number)\n",
    "        tid (tournament id number)\n",
    "        mid (match id number)\n",
    "        date (match date)\n",
    "        surface (match surface)\n",
    "    Output: a dataframe of two columns, one a time discount, the other a surface discount \n",
    "    \n",
    "    \"\"\"\n",
    "        \n",
    "    # extract identifiers and date from input row\n",
    "    pid = x['pid'] # player id \n",
    "    tid = x['tid'] # tourney id\n",
    "    mid = x['mid'] # match id\n",
    "    date = x['date']\n",
    "    surface = x['surface']\n",
    "    \n",
    "    # extract all historical records for this player, from before this match\n",
    "    records = all_records.loc[(all_records.pid==pid) & (all_records.date <= date) &\\\n",
    "                         ((all_records.tid != tid) | (all_records.mid != mid)),:].copy()\n",
    "    \n",
    "    # get time discount factor\n",
    "    p = 0.8 \n",
    "    t = (date - records.date).apply(lambda x: x.days/365)\n",
    "    t_wt = p**t\n",
    "    t_wt.loc[t_wt>p]=p\n",
    "    \n",
    "    # get surface discount factor\n",
    "    s_wt = records.surface.apply(lambda x: surf_wt.loc[x,surface])\n",
    "\n",
    "    # get time and court weighted averages of serve and performance stats\n",
    "    t = records[['dfpg','acpg','tpw','wrp','wsp',\\\n",
    "              'wss','wfs','fsp','ssp','bps']].mul(t_wt*s_wt,axis=0).sum(axis=0)/\\\n",
    "        records[['dfpg','acpg','tpw','wrp','wsp',\\\n",
    "              'wss','wfs','fsp','ssp','bps']].notnull().mul(t_wt*s_wt,axis=0).sum(axis=0)\n",
    " \n",
    "    if len(records)==0:\n",
    "        t['complete']=np.nan\n",
    "        t['retired']=np.nan\n",
    "        return t\n",
    "\n",
    "    # get player completeness\n",
    "    t['complete'] = t['wsp']*t['wrp']\n",
    "\n",
    "    # get player serveadvantage\n",
    "    t['serveadv'] = t['wsp']+t['wrp']    \n",
    "    \n",
    "    # get player \"return from retirement\" status\n",
    "    t['retired'] = records.loc[records.date==records.date.min(),'retired'].values[0]\n",
    "    \n",
    "    # return a series\n",
    "    return t"
   ]
  },
  {
   "cell_type": "markdown",
   "metadata": {},
   "source": [
    "*The get_dynamic_features function needs to be called twice for each row of the dataset, once for each player.  This wrapper function orchestrates the calls.*"
   ]
  },
  {
   "cell_type": "code",
   "execution_count": 1907,
   "metadata": {
    "collapsed": true
   },
   "outputs": [],
   "source": [
    "def dynamic_feature_wrapper(x):\n",
    "    \"\"\"\n",
    "    calls \"get_dynamic_features\" to extract dynamic features for each player\n",
    "    \"\"\"    \n",
    "    \n",
    "    pids = x[['lid','wid']]\n",
    "    y = x.copy()\n",
    "    \n",
    "    # get Player1 info\n",
    "    y['pid'] = pids[y['outcome']]\n",
    "    P1_features = get_dynamic_features(y)\n",
    "    \n",
    "    # get Player0 info\n",
    "    y['pid'] = pids[1-y['outcome']]\n",
    "    P2_features = get_dynamic_features(y)\n",
    "     \n",
    "    # features are differences\n",
    "    features = P1_features - P2_features\n",
    "    \n",
    "    # record the key for subsequent merging\n",
    "    features['key'] = y['key']\n",
    "        \n",
    "    return features   "
   ]
  },
  {
   "cell_type": "markdown",
   "metadata": {},
   "source": [
    "*Insert a binary column `outcomes` into data; randomly assigns winner and loser \"player 1\" and \"player 2\" status.*  "
   ]
  },
  {
   "cell_type": "code",
   "execution_count": null,
   "metadata": {
    "collapsed": true
   },
   "outputs": [],
   "source": [
    "data['outcome']=np.random.choice([0,1],size=len(features))"
   ]
  },
  {
   "cell_type": "markdown",
   "metadata": {},
   "source": [
    "*Now get the features*"
   ]
  },
  {
   "cell_type": "code",
   "execution_count": null,
   "metadata": {},
   "outputs": [],
   "source": [
    "import timeit\n",
    "start_time = timeit.default_timer()\n",
    "\n",
    "# extract and rename some columns of the data, for compatibility with the get_dynamic_features function\n",
    "x=data[['tourney_id','match_num','tourney_date','key','winner_id','loser_id','surface','outcome']].copy()\n",
    "x.rename(columns={'tourney_id':'tid','match_num':'mid','tourney_date':'date',\\\n",
    "                    'winner_id':'wid','loser_id':'lid'},inplace=True)\n",
    "\n",
    "# get both static and dynamic feaatures\n",
    "s_features=get_static_features(data)\n",
    "d_features = x.apply(dynamic_feature_wrapper,axis=1)\n",
    "\n",
    "elapsed = timeit.default_timer() - start_time"
   ]
  },
  {
   "cell_type": "markdown",
   "metadata": {},
   "source": [
    "*Merge static and dynamic feature*"
   ]
  },
  {
   "cell_type": "code",
   "execution_count": 1946,
   "metadata": {},
   "outputs": [],
   "source": [
    "features = pd.merge(s_features,d_features,how='inner',on='key')"
   ]
  },
  {
   "cell_type": "markdown",
   "metadata": {},
   "source": [
    "*Write features to disk.*"
   ]
  },
  {
   "cell_type": "code",
   "execution_count": 1951,
   "metadata": {
    "collapsed": true
   },
   "outputs": [],
   "source": [
    "pd.to_pickle(features,pickle_dir + 'features.pkl')\n",
    "features.to_csv(pickle_dir+'features.csv')"
   ]
  },
  {
   "cell_type": "markdown",
   "metadata": {},
   "source": [
    "*Scope out the distribution of the features*"
   ]
  },
  {
   "cell_type": "code",
   "execution_count": 1932,
   "metadata": {},
   "outputs": [
    {
     "data": {
      "text/plain": [
       "0.0004346881112801565"
      ]
     },
     "execution_count": 1932,
     "metadata": {},
     "output_type": "execute_result"
    }
   ],
   "source": [
    "features.loc[features.outcome==0,'retired'].mean()"
   ]
  },
  {
   "cell_type": "code",
   "execution_count": 1945,
   "metadata": {},
   "outputs": [
    {
     "data": {
      "text/plain": [
       "<matplotlib.text.Text at 0x17ffb3550>"
      ]
     },
     "execution_count": 1945,
     "metadata": {},
     "output_type": "execute_result"
    },
    {
     "data": {
      "image/png": "[encoded data removed]",
      "text/plain": [
       "<matplotlib.figure.Figure at 0x17fbeb320>"
      ]
     },
     "metadata": {},
     "output_type": "display_data"
    }
   ],
   "source": [
    "# define figure and axes\n",
    "fig = plt.figure(figsize=(15,5))\n",
    "ax0 = fig.add_subplot(121)\n",
    "ax1 = fig.add_subplot(122)\n",
    "\n",
    "ax0.hist(features['age'].dropna())\n",
    "ax0.set_title('Diff. in rank')\n",
    "ax1.hist(features.rankpts.dropna())\n",
    "ax1.set_title('Diff in rank pts')"
   ]
  },
  {
   "cell_type": "markdown",
   "metadata": {},
   "source": [
    "### Future Work\n",
    "\n",
    "** Proposed features:**\n",
    "\n",
    "*  percent of winning tie-breakers \n",
    "*  percent of `upsets` (losing when higher ranked, winning when lower ranked)\n",
    "*  percent head-to-head victories (against the same player)\n",
    "\n",
    "\n",
    "** Parameters to solve for:**\n",
    "\n",
    "* Time discount factor over historical averages\n",
    "* Match weighting factor.  Issues include:   \n",
    "    -heads-to-heads  \n",
    "    -common opponents  \n",
    "    -court surface \n",
    "    \n",
    "** Take-aways:**\n",
    "\n",
    "1.  **rank is not the whole picture**   \n",
    "    -Ex:  David Nalbandian has gone 8-11 against Federer, in spite of being lower ranked\n",
    "2.  **the data is messy**  \n",
    "    -incomplete matches  \n",
    "    -missing data  \n",
    "    -incorrect data\n",
    "3.  **informative features need to be constructed**  \n",
    "    -infering injury  \n",
    "    -head-to-head history\n",
    "    \n",
    "   \n"
   ]
  }
 ],
 "metadata": {
  "kernelspec": {
   "display_name": "Python 3",
   "language": "python",
   "name": "python3"
  },
  "language_info": {
   "codemirror_mode": {
    "name": "ipython",
    "version": 3
   },
   "file_extension": ".py",
   "mimetype": "text/x-python",
   "name": "python",
   "nbconvert_exporter": "python",
   "pygments_lexer": "ipython3",
   "version": "3.6.1"
  }
 },
 "nbformat": 4,
 "nbformat_minor": 2
}
